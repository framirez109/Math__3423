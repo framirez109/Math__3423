{
 "cells": [
  {
   "cell_type": "code",
   "execution_count": 27,
   "metadata": {},
   "outputs": [
    {
     "name": "stdout",
     "output_type": "stream",
     "text": [
      "U: [[ 2.         -0.5         0.        ]\n",
      " [ 0.          1.93649167 -0.51639778]\n",
      " [ 0.          0.          1.93218357]]\n",
      "L: [[ 2.          0.          0.        ]\n",
      " [-0.5         1.93649167  0.        ]\n",
      " [ 0.         -0.51639778  1.93218357]]\n"
     ]
    }
   ],
   "source": [
    "from math import sqrt\n",
    "import numpy as np\n",
    "#problemset 2.1 #7\n",
    "\n",
    "#Cholesky A = LLT\n",
    " \n",
    "def cholesky(A):\n",
    "    n = len(A)\n",
    "\n",
    "    L = [[0.0] * n for i in range(n)]\n",
    "\n",
    "    for i in range(n):\n",
    "        for k in range(i+1):\n",
    "            tmp_sum = sum(L[i][j] * L[k][j] for j in range(k))\n",
    "            \n",
    "            if (i == k): \n",
    "                L[i][k] = sqrt(A[i][i] - tmp_sum)\n",
    "            else:\n",
    "                L[i][k] = (1.0 / L[k][k] * (A[i][k] - tmp_sum))\n",
    "    return L\n",
    " \n",
    "A  = np.array([[4, -1, 0], \n",
    "            [-1, 4, -1],\n",
    "            [0, -1, 4]])\n",
    "\n",
    "\n",
    "L = np.matrix(cholesky(A))\n",
    "\n",
    "\n",
    "LT = L.T\n",
    "#a = L @ LT - check\n",
    "print(\"U:\",LT)\n",
    "print(\"L:\", L)\n"
   ]
  },
  {
   "cell_type": "code",
   "execution_count": 34,
   "metadata": {},
   "outputs": [
    {
     "name": "stdout",
     "output_type": "stream",
     "text": [
      "Lower Triangular\t\tUpper Triangular\n",
      "1\t0\t0\t\t2\t-1\t-2\t\n",
      "-2\t1\t0\t\t0\t4\t-1\t\n",
      "-2\t-1\t1\t\t0\t0\t3\t\n"
     ]
    }
   ],
   "source": [
    "#Doolittle decomposition\n",
    "\n",
    "def luDecomposition(a, n):\n",
    "\n",
    "    lower = [[0 for x in range(n)]\n",
    "        for y in range(n)]\n",
    "    upper = [[0 for x in range(n)]\n",
    "        for y in range(n)]\n",
    "\n",
    "\n",
    "    for i in range(n):\n",
    "\n",
    "        for k in range(i, n):\n",
    "\n",
    "            sum = 0\n",
    "            for j in range(i):\n",
    "                sum += (lower[i][j] * upper[j][k])\n",
    "\n",
    "            upper[i][k] = mat[i][k] - sum\n",
    "\n",
    "        for k in range(i, n):\n",
    "            if (i == k):\n",
    "                lower[i][i] = 1\n",
    "            else:\n",
    "\n",
    "                sum = 0\n",
    "                for j in range(i):\n",
    "                    sum += (lower[k][j] * upper[j][i])\n",
    "\n",
    "                lower[k][i] = int((mat[k][i] - sum) /\n",
    "                                upper[i][i])\n",
    "\n",
    "    print(\"Lower Triangular\\t\\tUpper Triangular\")\n",
    "\n",
    "    for i in range(n):\n",
    "\n",
    "        for j in range(n):\n",
    "            print(lower[i][j], end=\"\\t\")\n",
    "        print(\"\", end=\"\\t\")\n",
    "\n",
    "\n",
    "        for j in range(n):\n",
    "            print(upper[i][j], end=\"\\t\")\n",
    "        print(\"\")\n",
    "\n",
    "\n",
    "A  = np.array([[4, -1, 0], \n",
    "             [-1, 4, -1],\n",
    "                [0, -1, 4]])\n",
    "\n",
    "luDecomposition(A, 3)\n",
    "\n",
    "\n"
   ]
  },
  {
   "cell_type": "code",
   "execution_count": null,
   "metadata": {},
   "outputs": [],
   "source": []
  }
 ],
 "metadata": {
  "kernelspec": {
   "display_name": "Python 3",
   "language": "python",
   "name": "python3"
  },
  "language_info": {
   "codemirror_mode": {
    "name": "ipython",
    "version": 3
   },
   "file_extension": ".py",
   "mimetype": "text/x-python",
   "name": "python",
   "nbconvert_exporter": "python",
   "pygments_lexer": "ipython3",
   "version": "3.8.3"
  }
 },
 "nbformat": 4,
 "nbformat_minor": 4
}
