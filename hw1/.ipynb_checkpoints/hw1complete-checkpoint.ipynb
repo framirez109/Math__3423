{
 "cells": [
  {
   "cell_type": "code",
   "execution_count": 9,
   "metadata": {},
   "outputs": [
    {
     "name": "stdout",
     "output_type": "stream",
     "text": [
      "[[ 2.          0.          0.        ]\n",
      " [-0.5         1.93649167  0.        ]\n",
      " [ 0.         -0.51639778  1.93218357]]\n",
      "[[0. 0. 0.]\n",
      " [0. 0. 0.]\n",
      " [0. 0. 0.]]\n"
     ]
    }
   ],
   "source": [
    "from math import sqrt\n",
    "import numpy as np\n",
    "#problemset 2.1 #7\n",
    "\n",
    "#Cholesky A = LLT\n",
    "\n",
    "def cholesky(A):\n",
    "    n = len(A)\n",
    "\n",
    "    L = [[0.0] * n for i in range(n)]\n",
    "\n",
    "    for i in range(n):\n",
    "        for k in range(i+1):\n",
    "            tmp_sum = sum(L[i][j] * L[k][j] for j in range(k))\n",
    "            \n",
    "            if (i == k): \n",
    "                L[i][k] = sqrt(A[i][i] - tmp_sum)\n",
    "            else:\n",
    "                L[i][k] = (1.0 / L[k][k] * (A[i][k] - tmp_sum))\n",
    "    return L\n",
    " \n",
    "A  = np.array([[4, -1, 0], \n",
    "            [-1, 4, -1],\n",
    "            [0, -1, 4]])\n",
    "\n",
    "\n",
    "L = np.matrix(cholesky(A))\n",
    "\n",
    "print(L)\n",
    "\n",
    "LT = L.T\n",
    "a = L @ LT \n",
    "\n",
    "#print(a)\n",
    "#print(\"U:\",LT)\n",
    "#print(\"L:\", L)\n",
    "\n",
    "print(a - L @LT)"
   ]
  },
  {
   "cell_type": "code",
   "execution_count": 10,
   "metadata": {},
   "outputs": [
    {
     "name": "stdout",
     "output_type": "stream",
     "text": [
      "Lower Triangular\t\tUpper Triangular\n",
      "1\t0\t0\t\t4\t-1\t0\t\n",
      "0\t1\t0\t\t0\t4\t-1\t\n",
      "0\t0\t1\t\t0\t0\t4\t\n"
     ]
    }
   ],
   "source": [
    "#Doolittle decomposition\n",
    "\n",
    "def luDecomposition(mat, n):\n",
    "\n",
    "    lower = [[0 for x in range(n)]\n",
    "        for y in range(n)]\n",
    "    upper = [[0 for x in range(n)]\n",
    "        for y in range(n)]\n",
    "\n",
    "\n",
    "    for i in range(n):\n",
    "\n",
    "        for k in range(i, n):\n",
    "\n",
    "            sum = 0\n",
    "            for j in range(i):\n",
    "                sum += (lower[i][j] * upper[j][k])\n",
    "\n",
    "            upper[i][k] = mat[i][k] - sum\n",
    "\n",
    "        for k in range(i, n):\n",
    "            if (i == k):\n",
    "                lower[i][i] = 1\n",
    "            else:\n",
    "\n",
    "                sum = 0\n",
    "                for j in range(i):\n",
    "                    sum += (lower[k][j] * upper[j][i])\n",
    "\n",
    "                lower[k][i] = int((mat[k][i] - sum) /\n",
    "                                upper[i][i])\n",
    "\n",
    "    print(\"Lower Triangular\\t\\tUpper Triangular\")\n",
    "\n",
    "    for i in range(n):\n",
    "\n",
    "        for j in range(n):\n",
    "            print(lower[i][j], end=\"\\t\")\n",
    "        print(\"\", end=\"\\t\")\n",
    "\n",
    "\n",
    "        for j in range(n):\n",
    "            print(upper[i][j], end=\"\\t\")\n",
    "        print(\"\")\n",
    "\n",
    "\n",
    "A  = np.array([[4, -1, 0], \n",
    "                 [-1, 4, -1],\n",
    "                [0, -1, 4]])\n",
    "\n",
    "luDecomposition(A, 3)"
   ]
  },
  {
   "cell_type": "code",
   "execution_count": 13,
   "metadata": {},
   "outputs": [
    {
     "data": {
      "text/plain": [
       "array([[1.        , 0.5       , 0.33333333, 0.25      , 0.2       ,\n",
       "        0.16666667, 0.14285714, 0.125     , 0.11111111, 0.1       ],\n",
       "       [0.5       , 0.33333333, 0.25      , 0.2       , 0.16666667,\n",
       "        0.14285714, 0.125     , 0.11111111, 0.1       , 0.09090909],\n",
       "       [0.33333333, 0.25      , 0.2       , 0.16666667, 0.14285714,\n",
       "        0.125     , 0.11111111, 0.1       , 0.09090909, 0.08333333],\n",
       "       [0.25      , 0.2       , 0.16666667, 0.14285714, 0.125     ,\n",
       "        0.11111111, 0.1       , 0.09090909, 0.08333333, 0.07692308],\n",
       "       [0.2       , 0.16666667, 0.14285714, 0.125     , 0.11111111,\n",
       "        0.1       , 0.09090909, 0.08333333, 0.07692308, 0.07142857],\n",
       "       [0.16666667, 0.14285714, 0.125     , 0.11111111, 0.1       ,\n",
       "        0.09090909, 0.08333333, 0.07692308, 0.07142857, 0.06666667],\n",
       "       [0.14285714, 0.125     , 0.11111111, 0.1       , 0.09090909,\n",
       "        0.08333333, 0.07692308, 0.07142857, 0.06666667, 0.0625    ],\n",
       "       [0.125     , 0.11111111, 0.1       , 0.09090909, 0.08333333,\n",
       "        0.07692308, 0.07142857, 0.06666667, 0.0625    , 0.05882353],\n",
       "       [0.11111111, 0.1       , 0.09090909, 0.08333333, 0.07692308,\n",
       "        0.07142857, 0.06666667, 0.0625    , 0.05882353, 0.05555556],\n",
       "       [0.1       , 0.09090909, 0.08333333, 0.07692308, 0.07142857,\n",
       "        0.06666667, 0.0625    , 0.05882353, 0.05555556, 0.05263158]])"
      ]
     },
     "execution_count": 13,
     "metadata": {},
     "output_type": "execute_result"
    }
   ],
   "source": [
    "#problemset 2.1 #15\n",
    "\n",
    "import numpy as np \n",
    "from numpy import array\n",
    "from scipy.linalg import qr\n",
    "from scipy.linalg import hilbert\n",
    "\n",
    "n = 10\n",
    "\n",
    "A = hilbert(n)\n",
    "A"
   ]
  },
  {
   "cell_type": "code",
   "execution_count": 12,
   "metadata": {},
   "outputs": [
    {
     "data": {
      "text/plain": [
       "array([[1.        , 0.5       , 0.33333333],\n",
       "       [0.5       , 0.08333333, 0.08333333],\n",
       "       [0.33333333, 1.        , 0.00555556]])"
      ]
     },
     "execution_count": 12,
     "metadata": {},
     "output_type": "execute_result"
    }
   ],
   "source": [
    "import numpy as np\n",
    "\n",
    "def LUdecomp(a):\n",
    "    n = len(a)\n",
    "    for k in range(0,n-1):\n",
    "        for i in range(k+1,n):\n",
    "           if a[i,k] != 0.0:\n",
    "               lam = a [i,k]/a[k,k]\n",
    "               a[i,k+1:n] = a[i,k+1:n] - lam*a[k,k+1:n]\n",
    "               a[i,k] = lam\n",
    "    return a\n",
    "\n",
    "def LUsolve(a,b):\n",
    "    n = len(a)\n",
    "    for k in range(1,n):\n",
    "        b[k] = b[k] - np.dot(a[k,0:k],b[0:k])\n",
    "    b[n-1] = b[n-1]/a[n-1,n-1]    \n",
    "    for k in range(n-2,-1,-1):\n",
    "       b[k] = (b[k] - np.dot(a[k,k+1:n],b[k+1:n]))/a[k,k]\n",
    "    return b\n",
    "\n",
    "LUdecomp(A)\n",
    "\n",
    "#solve the system of equation "
   ]
  },
  {
   "cell_type": "code",
   "execution_count": 15,
   "metadata": {
    "scrolled": true
   },
   "outputs": [
    {
     "name": "stdout",
     "output_type": "stream",
     "text": [
      "a 0 =  10.0\n",
      "a 1 =  34.0\n",
      "a 2 =  -9.0\n",
      "a 3 =  0.0\n"
     ]
    }
   ],
   "source": [
    "import numpy as np\n",
    "from numpy.linalg import solve\n",
    "\n",
    "#Problemset 2.1 #17 - CORRECT \n",
    "\n",
    "\n",
    "def leftMatrix(arr):\n",
    "    return [1, arr[0], arr[0]**2, arr[0]**3]\n",
    "\n",
    "def rightMatrix(arr):\n",
    "    return arr[1]\n",
    "\n",
    "def solve(A, B):\n",
    "    A = np.array(A)\n",
    "    B = np.array(B)\n",
    "    X2 = np.linalg.solve(A,B)\n",
    "    return list(X2) \n",
    "  \n",
    "\n",
    "points = np.array([[0, 10],\n",
    "                   [1, 35], \n",
    "                   [3, 31], \n",
    "                   [4, 2]])\n",
    "\n",
    "A = list() \n",
    "b = list() \n",
    "for i in range(len(points)):\n",
    "    A.append(leftMatrix(points[i]))\n",
    "    b.append(rightMatrix(points[i]))  \n",
    "\n",
    "ans = solve(A, b) \n",
    "for i in range(len(ans)):\n",
    "    print('a', i, '= ', ans[i])"
   ]
  },
  {
   "cell_type": "code",
   "execution_count": 16,
   "metadata": {},
   "outputs": [
    {
     "name": "stdout",
     "output_type": "stream",
     "text": [
      "Euclidean norm: 4.866642633922877\n",
      "Infinity norm: 4.866642633922877\n"
     ]
    }
   ],
   "source": [
    "import numpy as np\n",
    "from numpy.linalg import norm, inv\n",
    "\n",
    "#Problemset 2.1 #21\n",
    "\n",
    "\n",
    "a = np.array([[1, 1, 1],\n",
    "            [2, 2, 1],\n",
    "            [3, 3, 0]])\n",
    "\n",
    "\n",
    "infinity_norm = np.absolute(a)\n",
    "\n",
    "\n",
    "\n",
    "print(\"Euclidean norm:\",np.linalg.norm(a)*np.linalg.norm(np.linalg.pinv(a)))\n",
    "print(\"Infinity norm:\", np.linalg.norm(infinity_norm)*np.linalg.norm(np.linalg.pinv(infinity_norm)))\n",
    "\n",
    "\n",
    "#since its a singular matrix it does not have an inverse \n",
    "#\n",
    "#euclidean norm = close to 12.437\n",
    "#infinity condition norm = close to 15"
   ]
  },
  {
   "cell_type": "code",
   "execution_count": 17,
   "metadata": {},
   "outputs": [
    {
     "name": "stdout",
     "output_type": "stream",
     "text": [
      "[1. 1. 1. 1. 1. 1. 1. 1. 1. 1. 1. 1. 1. 1. 1. 1. 1. 1. 1. 1. 1. 1. 1. 1.\n",
      " 1. 1. 1. 1. 1. 1. 1. 1. 1. 1. 1. 1. 1. 1. 1. 1. 1. 1. 1. 1. 1. 1. 1. 1.\n",
      " 1. 1. 1. 1. 1. 1. 1. 1. 1. 1. 1. 1. 1. 1. 1. 1. 1. 1. 1. 1. 1. 1. 1. 1.\n",
      " 1. 1. 1. 1. 1. 1. 1. 1. 1. 1. 1. 1. 1. 1. 1. 1. 1. 1. 1. 1. 1. 1. 1. 1.\n",
      " 1. 1. 1. 1. 1. 1. 1. 1. 1. 1. 1. 1. 1. 1. 1. 1. 1. 1. 1. 1. 1. 1. 1. 1.\n",
      " 1. 1. 1. 1. 1. 1. 1. 1. 1. 1. 1. 1. 1. 1. 1. 1. 1. 1. 1. 1. 1. 1. 1. 1.\n",
      " 1. 1. 1. 1. 1. 1. 1. 1. 1. 1. 1. 1. 1. 1. 1. 1. 1. 1. 1. 1. 1. 1. 1. 1.\n",
      " 1. 1. 1. 1. 1. 1. 1. 1. 1. 1. 1. 1. 1. 1. 1. 1. 1. 1. 1. 1. 1. 1. 1. 1.\n",
      " 1. 1. 1. 1. 1. 1. 1. 1. 1. 1. 1. 1. 1. 1. 1. 1. 1. 1. 1. 1. 1. 1. 1. 1.\n",
      " 1. 1. 1. 1. 1. 1. 1. 1. 1. 1. 1. 1. 1. 1. 1. 1. 1. 1. 1. 1. 1. 1. 1. 1.\n",
      " 1. 1. 1. 1. 1. 1. 1. 1. 1. 1. 1. 1. 1. 1. 1. 1. 1. 1. 1. 1. 1. 1. 1. 1.\n",
      " 1. 1. 1. 1. 1. 1. 1. 1. 1. 1. 1. 1. 1. 1. 1. 1. 1. 1. 1. 1. 1. 1. 1. 1.\n",
      " 1. 1. 1. 1. 1. 1. 1. 1. 1. 1. 1. 1. 1. 1. 1. 1. 1. 1. 1. 1. 1. 1. 1. 1.\n",
      " 1. 1. 1. 1. 1. 1. 1. 1. 1. 1. 1. 1. 1. 1. 1. 1. 1. 1. 1. 1. 1. 1. 1. 1.\n",
      " 1. 1. 1. 1. 1. 1. 1. 1. 1. 1. 1. 1. 1. 1. 1. 1. 1. 1. 1. 1. 1. 1. 1. 1.\n",
      " 1. 1. 1. 1. 1. 1. 1. 1. 1. 1. 1. 1. 1. 1. 1. 1. 1. 1. 1. 1. 1. 1. 1. 1.\n",
      " 1. 1. 1. 1. 1. 1. 1. 1. 1. 1. 1. 1. 1. 1. 1. 1. 1. 1. 1. 1. 1. 1. 1. 1.\n",
      " 1. 1. 1. 1. 1. 1. 1. 1. 1. 1. 1. 1. 1. 1. 1. 1. 1. 1. 1. 1. 1. 1. 1. 1.\n",
      " 1. 1. 1. 1. 1. 1. 1. 1. 1. 1. 1. 1. 1. 1. 1. 1. 1. 1. 1. 1. 1. 1. 1. 1.\n",
      " 1. 1. 1. 1. 1. 1. 1. 1. 1. 1. 1. 1. 1. 1. 1. 1. 1. 1. 1. 1. 1. 1. 1. 1.\n",
      " 1. 1. 1. 1. 1. 1. 1. 1. 1. 1. 1. 1. 1. 1. 1. 1. 1. 1. 1. 1. 1. 1. 1. 1.\n",
      " 1. 1. 1. 1. 1. 1. 1. 1. 1. 1. 1. 1. 1. 1. 1. 1. 1. 1. 1. 1. 1. 1. 1. 1.\n",
      " 1. 1. 1. 1. 1. 1. 1. 1. 1. 1. 1. 1. 1. 1. 1. 1. 1. 1. 1. 1. 1. 1. 1. 1.\n",
      " 1. 1. 1. 1. 1. 1. 1. 1. 1. 1. 1. 1. 1. 1. 1. 1. 1. 1. 1. 1. 1. 1. 1. 1.\n",
      " 1. 1. 1. 1. 1. 1. 1. 1. 1. 1. 1. 1. 1. 1. 1. 1. 1. 1. 1. 1. 1. 1. 1. 1.\n",
      " 1. 1. 1. 1. 1. 1. 1. 1. 1. 1. 1. 1. 1. 1. 1. 1. 1. 1. 1. 1. 1. 1. 1. 1.\n",
      " 1. 1. 1. 1. 1. 1. 1. 1. 1. 1. 1. 1. 1. 1. 1. 1. 1. 1. 1. 1. 1. 1. 1. 1.\n",
      " 1. 1. 1. 1. 1. 1. 1. 1. 1. 1. 1. 1. 1. 1. 1. 1. 1. 1. 1. 1. 1. 1. 1. 1.\n",
      " 1. 1. 1. 1. 1. 1. 1. 1. 1. 1. 1. 1. 1. 1. 1. 1. 1. 1. 1. 1. 1. 1. 1. 1.\n",
      " 1. 1. 1. 1. 1. 1. 1. 1. 1. 1. 1. 1. 1. 1. 1. 1. 1. 1. 1. 1. 1. 1. 1. 1.\n",
      " 1. 1. 1. 1. 1. 1. 1. 1. 1. 1. 1. 1. 1. 1. 1. 1. 1. 1. 1. 1. 1. 1. 1. 1.\n",
      " 1. 1. 1. 1. 1. 1. 1. 1. 1. 1. 1. 1. 1. 1. 1. 1. 1. 1. 1. 1. 1. 1. 1. 1.\n",
      " 1. 1. 1. 1. 1. 1. 1. 1. 1. 1. 1. 1. 1. 1. 1. 1. 1. 1. 1. 1. 1. 1. 1. 1.\n",
      " 1. 1. 1. 1. 1. 1. 1. 1. 1. 1. 1. 1. 1. 1. 1. 1. 1. 1. 1. 1. 1. 1. 1. 1.\n",
      " 1. 1. 1. 1. 1. 1. 1. 1. 1. 1. 1. 1. 1. 1. 1. 1. 1. 1. 1. 1. 1. 1. 1. 1.\n",
      " 1. 1. 1. 1. 1. 1. 1. 1. 1. 1. 1. 1. 1. 1. 1. 1. 1. 1. 1. 1. 1. 1. 1. 1.\n",
      " 1. 1. 1. 1. 1. 1. 1. 1. 1. 1. 1. 1. 1. 1. 1. 1. 1. 1. 1. 1. 1. 1. 1. 1.\n",
      " 1. 1. 1. 1. 1. 1. 1. 1. 1. 1. 1. 1. 1. 1. 1. 1. 1. 1. 1. 1. 1. 1. 1. 1.\n",
      " 1. 1. 1. 1. 1. 1. 1. 1. 1. 1. 1. 1. 1. 1. 1. 1. 1. 1. 1. 1. 1. 1. 1. 1.\n",
      " 1. 1. 1. 1. 1. 1. 1. 1. 1. 1. 1. 1. 1. 1. 1. 1. 1. 1. 1. 1. 1. 1. 1. 1.\n",
      " 1. 1. 1. 1. 1. 1. 1. 1. 1. 1. 1. 1. 1. 1. 1. 1. 1. 1. 1. 1. 1. 1. 1. 1.\n",
      " 1. 1. 1. 1. 1. 1. 1. 1. 1. 1. 1. 1. 1. 1. 1. 1.]\n"
     ]
    }
   ],
   "source": [
    "import numpy\n",
    "from numpy.random import rand\n",
    "\n",
    "#Problemset 2.1 #23\n",
    "\n",
    "\n",
    "\n",
    "def gaussElimin(n):\n",
    "    a = rand(n,n)\n",
    "    b = numpy.sum(a, axis=1)\n",
    "    A = numpy.linalg.inv(a)\n",
    "    x = A @ b\n",
    "    return x\n",
    "\n",
    "X = gaussElimin(1000)\n",
    "print(X)"
   ]
  },
  {
   "cell_type": "code",
   "execution_count": 18,
   "metadata": {},
   "outputs": [
    {
     "name": "stdout",
     "output_type": "stream",
     "text": [
      "L:  [[0 0 0 0 0]\n",
      " [0 0 0 0 0]\n",
      " [0 0 0 0 0]\n",
      " [0 0 0 0 0]\n",
      " [0 0 0 0 1]]\n",
      " \n",
      "D:  [[ 2 -2  0  0  0]\n",
      " [ 0  5 -6  0  0]\n",
      " [ 0  0 16 12  0]\n",
      " [ 0  0  0 39 -6]\n",
      " [ 0  0  0  0 14]]\n"
     ]
    }
   ],
   "source": [
    "import numpy as np\n",
    "#Problem set 2.2 #3\n",
    "\n",
    "a = np.array([[2,-2 , 0, 0, 0],\n",
    "            [-2, 5, -6, 0, 0],\n",
    "            [0, -6, 16, 12, 0],\n",
    "            [0, 0, 12, 39, -6],\n",
    "            [0, 0, 0, -6, 14]])\n",
    "\n",
    "\n",
    "def doolittle_decomp(a):\n",
    "    s = len(a)\n",
    "    L = [[0 for i in range(s)] for j in range(s)]\n",
    "    D = [[0 for i in range(s)] for j in range(s)]\n",
    "    \n",
    "    for i in range(s):\n",
    "        for j in range(i, s):\n",
    "            total = 0\n",
    "            for k in range(i):\n",
    "                total += (L[i][k] * D[k][j])\n",
    "            \n",
    "            D[i][j] = a[i][j] - total\n",
    "    \n",
    "    for j in range(i, s):\n",
    "        if(i == j):\n",
    "            L[i][i] = 1\n",
    "        else:\n",
    "            total = 0\n",
    "            for k in range(i):\n",
    "                total += (L[j][k] * D[k][i])\n",
    "            \n",
    "            L[i][j] = int((a[j][i] - total)/D[i][i])\n",
    "                \n",
    "    return L, D\n",
    "\n",
    "L, D = doolittle_decomp(a)\n",
    "print(\"L: \",np.matrix(L))\n",
    "print(\" \")\n",
    "print(\"D: \",np.matrix(D))\n",
    "#diagonal matrix - \n"
   ]
  },
  {
   "cell_type": "code",
   "execution_count": 17,
   "metadata": {},
   "outputs": [
    {
     "name": "stdout",
     "output_type": "stream",
     "text": [
      "[ 0.27533067  0.16965588 -0.24869113  0.08862284 -0.0229199   0.\n",
      "  0.10095023 -0.25443458  0.16103533  0.27122513]\n"
     ]
    }
   ],
   "source": [
    "import numpy as np\n",
    "from scipy.linalg import diagsvd\n",
    "from scipy.linalg import pinv\n",
    "from scipy.linalg import svd\n",
    "\n",
    "m = 5;n = 10 \n",
    "\n",
    "A = np.array([[7, -4, 1, 0, 0, 0, 0, 0, 0, 0],\n",
    "              [-4, 6, -4, 1, 0, 0, 0, 0, 0, 0],\n",
    "              [1, 0, -4, 0, 6, 0, -4, 0, 0, 1],\n",
    "              [0, 0, 0, 0, 0, 0, 1, -4, 6, -4],\n",
    "              [0, 0, 0, 0, 0, 0, 0, 1, -4, 7]])\n",
    "\n",
    "U, sigma, VT = svd(A)\n",
    "\n",
    "\n",
    "Sigma = diagsvd(sigma, m, n)\n",
    "\n",
    "b = np.ones(5, dtype= int)\n",
    "\n",
    "\n",
    "Sigma = diagsvd(sigma, m, n)\n",
    "\n",
    "PseudoA = (VT).T @ pinv(Sigma) @ U.T \n",
    "\n",
    "x = PseudoA @  b\n",
    "print(x)\n",
    "\n",
    "#solve again"
   ]
  },
  {
   "cell_type": "code",
   "execution_count": null,
   "metadata": {},
   "outputs": [],
   "source": []
  },
  {
   "cell_type": "code",
   "execution_count": null,
   "metadata": {},
   "outputs": [],
   "source": []
  }
 ],
 "metadata": {
  "kernelspec": {
   "display_name": "Python 3",
   "language": "python",
   "name": "python3"
  },
  "language_info": {
   "codemirror_mode": {
    "name": "ipython",
    "version": 3
   },
   "file_extension": ".py",
   "mimetype": "text/x-python",
   "name": "python",
   "nbconvert_exporter": "python",
   "pygments_lexer": "ipython3",
   "version": "3.8.3"
  }
 },
 "nbformat": 4,
 "nbformat_minor": 4
}
