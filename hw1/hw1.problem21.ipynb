{
 "cells": [
  {
   "cell_type": "code",
   "execution_count": 1,
   "metadata": {},
   "outputs": [
    {
     "name": "stdout",
     "output_type": "stream",
     "text": [
      "Euclidean norm: 4.866642633922877\n",
      "Infinity norm: 4.866642633922877\n"
     ]
    }
   ],
   "source": [
    "#hw1problem21\n",
    "import numpy as np\n",
    "from numpy.linalg import norm, inv\n",
    "\n",
    "\n",
    "\n",
    "a = np.array([[1, 1, 1],\n",
    "            [2, 2, 1],\n",
    "            [3, 3, 0]])\n",
    "\n",
    "\n",
    "infinity_norm = np.absolute(a)\n",
    "\n",
    "\n",
    "\n",
    "print(\"Euclidean norm:\",np.linalg.norm(a)*np.linalg.norm(np.linalg.pinv(a)))\n",
    "print(\"Infinity norm:\", np.linalg.norm(infinity_norm)*np.linalg.norm(np.linalg.pinv(infinity_norm)))\n",
    "\n",
    "\n",
    "#since its a singular matrix it does not have an inverse "
   ]
  },
  {
   "cell_type": "code",
   "execution_count": null,
   "metadata": {},
   "outputs": [],
   "source": []
  }
 ],
 "metadata": {
  "kernelspec": {
   "display_name": "Python 3",
   "language": "python",
   "name": "python3"
  },
  "language_info": {
   "codemirror_mode": {
    "name": "ipython",
    "version": 3
   },
   "file_extension": ".py",
   "mimetype": "text/x-python",
   "name": "python",
   "nbconvert_exporter": "python",
   "pygments_lexer": "ipython3",
   "version": "3.8.3"
  }
 },
 "nbformat": 4,
 "nbformat_minor": 4
}
