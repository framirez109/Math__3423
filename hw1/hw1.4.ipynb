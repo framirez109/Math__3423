{
 "cells": [
  {
   "cell_type": "markdown",
   "metadata": {},
   "source": [
    "# Problem 3"
   ]
  },
  {
   "cell_type": "code",
   "execution_count": 5,
   "metadata": {},
   "outputs": [
    {
     "name": "stdout",
     "output_type": "stream",
     "text": [
      "Lower\n",
      "\n",
      "[[ 1.          0.          0.          0.          0.        ]\n",
      " [ 0.          1.          0.          0.          0.        ]\n",
      " [ 0.         -0.          1.          0.          0.        ]\n",
      " [ 0.         -0.          0.          1.          0.        ]\n",
      " [-1.         -0.5         0.16666667  0.08333333  1.        ]]\n",
      "Upper\n",
      " \n",
      "[[ 2.         -2.          0.          0.          0.        ]\n",
      " [ 0.         -6.         16.         12.          0.        ]\n",
      " [ 0.          0.         12.         39.         -6.        ]\n",
      " [ 0.          0.          0.         -6.         14.        ]\n",
      " [ 0.          0.          0.          0.         -0.16666667]]\n"
     ]
    }
   ],
   "source": [
    "import numpy as np\n",
    "from scipy.linalg import inv\n",
    "from scipy.linalg import solve\n",
    "from scipy.linalg import lu\n",
    "\n",
    "\n",
    "m = 5 ; n = 5\n",
    "\n",
    "a = np.array([[2 ,-2 ,0 ,0 , 0],\n",
    "              [-2 ,5,-6 ,0 , 0],\n",
    "              [0 ,-6 ,16, 12,0],\n",
    "              [0 ,0 ,12,39, -6],\n",
    "              [0, 0, 0, -6, 14]])\n",
    "\n",
    "\n",
    "P, L, U = lu(a)\n",
    "\n",
    "\n",
    "print(\"Lower\")\n",
    "print(\"\")\n",
    "print(L)\n",
    "\n",
    "print(\"Upper\")\n",
    "print(\" \")\n",
    "print(U)\n",
    "\n",
    "\n"
   ]
  },
  {
   "cell_type": "markdown",
   "metadata": {},
   "source": [
    "# Problem 4"
   ]
  },
  {
   "cell_type": "code",
   "execution_count": 16,
   "metadata": {},
   "outputs": [
    {
     "name": "stdout",
     "output_type": "stream",
     "text": [
      "[ 2 -3  4 -3  1]\n"
     ]
    }
   ],
   "source": [
    "import numpy as np\n",
    "from scipy.linalg import inv\n",
    "from scipy.linalg import solve\n",
    "from scipy.linalg import lu\n",
    "\n",
    "\n",
    "m = 5 ; n = 5\n",
    "\n",
    "a = np.array([[6 ,2 ,0 ,0 , 0],\n",
    "              [-1 ,7,2 ,0 , 0],\n",
    "              [0 ,-2 ,8, 2, 0],\n",
    "              [0 ,0 ,3, 7, -2],\n",
    "              [0, 0, 0, 3, 5]])\n",
    "\n",
    "b = np.array([2, -3, 4, -3, 1])\n",
    "b = b.reshape(5,)\n",
    "print(b)\n",
    "\n",
    "P, L, U = lu(a)"
   ]
  },
  {
   "cell_type": "markdown",
   "metadata": {},
   "source": [
    "# Problem set 2.1: Problem 15"
   ]
  },
  {
   "cell_type": "code",
   "execution_count": 17,
   "metadata": {},
   "outputs": [
    {
     "name": "stdout",
     "output_type": "stream",
     "text": [
      "A solution\n",
      "[[   1320.00000001]\n",
      " [ -26040.00000018]\n",
      " [ 116760.00000079]\n",
      " [-181440.00000122]\n",
      " [  90720.00000061]]\n"
     ]
    }
   ],
   "source": [
    "#hw 1.problem15\n",
    "\n",
    "import numpy as np \n",
    "from numpy import array\n",
    "from scipy.linalg import qr\n",
    "from scipy.linalg import hilbert\n",
    "import numpy as np \n",
    "from scipy.linalg import lu\n",
    "from scipy.linalg import solve\n",
    "\n",
    "n = 5\n",
    "\n",
    "A = hilbert(n)\n",
    "\n",
    "b = np.random.randint(1,n, size = (n,1))\n",
    "\n",
    "P, L, U = lu(A)\n",
    "\n",
    "\n",
    "#solve Ax = b\n",
    "y = solve(L, P.T @ b)\n",
    "x = solve(U, y)\n",
    "\n",
    "print(\"A solution\")\n",
    "print(x)"
   ]
  },
  {
   "cell_type": "markdown",
   "metadata": {},
   "source": [
    "# Problem set 2.1; Problem # 21"
   ]
  },
  {
   "cell_type": "code",
   "execution_count": 18,
   "metadata": {},
   "outputs": [
    {
     "name": "stdout",
     "output_type": "stream",
     "text": [
      "Euclidean norm: 4.866642633922877\n",
      "Infinity norm: 4.866642633922877\n"
     ]
    }
   ],
   "source": [
    "#hw1problem21\n",
    "import numpy as np\n",
    "from numpy.linalg import norm, inv\n",
    "\n",
    "\n",
    "\n",
    "a = np.array([[1, 1, 1],\n",
    "            [2, 2, 1],\n",
    "            [3, 3, 0]])\n",
    "\n",
    "\n",
    "infinity_norm = np.absolute(a)\n",
    "\n",
    "\n",
    "\n",
    "print(\"Euclidean norm:\",np.linalg.norm(a)*np.linalg.norm(np.linalg.pinv(a)))\n",
    "print(\"Infinity norm:\", np.linalg.norm(infinity_norm)*np.linalg.norm(np.linalg.pinv(infinity_norm)))\n",
    "\n",
    "\n",
    "#since its a singular matrix it does not have an inverse "
   ]
  },
  {
   "cell_type": "markdown",
   "metadata": {},
   "source": [
    "# Problem 23"
   ]
  },
  {
   "cell_type": "code",
   "execution_count": 19,
   "metadata": {},
   "outputs": [
    {
     "name": "stdout",
     "output_type": "stream",
     "text": [
      "[1.         1.         1.         1.         1.         1.\n",
      " 1.         1.         1.         1.         1.         1.\n",
      " 1.         1.         1.         1.         1.         1.\n",
      " 1.         1.         1.         1.         1.         1.\n",
      " 1.         1.         1.         1.         1.         1.\n",
      " 1.         1.         1.         1.         1.         1.\n",
      " 1.         1.         1.         1.         1.         1.\n",
      " 1.         1.         1.         1.         1.         1.\n",
      " 1.         1.         1.         1.         1.         1.\n",
      " 1.         1.         1.         1.         1.         1.\n",
      " 1.         1.         1.         1.         1.         1.\n",
      " 1.         1.         1.         1.         1.         1.\n",
      " 1.         1.         0.99999999 1.         1.         1.\n",
      " 1.         1.         1.         1.         1.         1.\n",
      " 1.         1.         1.         1.         1.         1.00000001\n",
      " 1.         1.         1.         1.         1.         1.\n",
      " 1.         1.         1.         1.         1.         1.\n",
      " 1.         1.         1.         1.         1.         1.\n",
      " 1.         1.         1.         1.         1.         1.\n",
      " 1.         1.         1.         1.         1.         1.\n",
      " 1.         1.         1.         1.         1.         1.\n",
      " 1.         1.         1.         1.         1.         1.\n",
      " 1.         1.         1.         1.         1.         1.\n",
      " 1.         1.         1.         1.         1.         1.\n",
      " 1.         1.         1.         1.         1.         1.\n",
      " 1.         1.         1.         1.         1.         1.\n",
      " 1.         1.         1.         1.         1.         1.\n",
      " 1.         1.         1.         1.         1.         1.\n",
      " 1.         1.         1.         1.         1.         1.\n",
      " 1.         1.         1.         1.         1.         1.\n",
      " 1.         1.         1.         1.         1.         1.\n",
      " 1.         1.         1.         1.         1.         1.\n",
      " 1.         1.         1.         1.         1.         1.\n",
      " 1.         1.         1.         1.         1.         1.\n",
      " 1.         1.         1.         1.         1.         1.\n",
      " 1.         1.         1.         1.         1.         1.\n",
      " 1.         1.         1.         1.         1.         1.\n",
      " 1.         1.         1.         1.         1.         1.\n",
      " 1.         1.         1.         1.         1.         1.\n",
      " 1.         1.         1.         1.         1.         1.\n",
      " 1.         1.         1.         1.         1.         1.\n",
      " 1.         1.         1.         1.         1.         1.\n",
      " 1.         1.         1.         1.         1.         1.\n",
      " 1.         1.         1.         1.         1.         1.\n",
      " 1.         1.         1.         1.         1.         1.\n",
      " 1.         1.         1.         1.         1.         1.\n",
      " 1.         1.         1.         1.         1.         1.\n",
      " 1.         1.         1.         1.         1.         1.\n",
      " 1.         1.         1.         1.         1.         1.\n",
      " 1.         1.         1.         1.         1.         1.\n",
      " 1.         1.         1.         1.         1.         1.\n",
      " 1.         1.         1.         1.         1.         1.\n",
      " 1.         1.         1.         1.         1.         1.\n",
      " 1.         1.         1.         1.         1.         1.\n",
      " 1.         1.         1.         1.         1.         1.\n",
      " 1.         1.         1.         1.         1.         1.\n",
      " 1.         1.         1.         1.         1.         1.\n",
      " 1.         1.         1.         1.         1.         1.\n",
      " 1.         1.         1.         1.         1.         1.\n",
      " 1.         1.         1.         1.         1.         1.\n",
      " 1.         1.         1.         1.         1.         1.\n",
      " 1.         1.         1.         1.         1.         1.\n",
      " 1.         1.         1.         1.         1.         1.\n",
      " 1.         1.         1.         1.         1.         1.\n",
      " 1.         1.         1.         1.         1.         1.\n",
      " 1.         1.         1.         1.         1.         1.\n",
      " 1.         1.         1.         1.        ]\n"
     ]
    }
   ],
   "source": [
    "import numpy\n",
    "from numpy.random import rand\n",
    "\n",
    "def gaussElimin(n):\n",
    "    a = rand(n,n)\n",
    "    b = numpy.sum(a, axis=1)\n",
    "    A = numpy.linalg.inv(a)\n",
    "    x = A @ b\n",
    "    return x\n",
    "\n",
    "X = gaussElimin(400)\n",
    "print(X)"
   ]
  },
  {
   "cell_type": "code",
   "execution_count": null,
   "metadata": {},
   "outputs": [],
   "source": []
  }
 ],
 "metadata": {
  "kernelspec": {
   "display_name": "Python 3",
   "language": "python",
   "name": "python3"
  },
  "language_info": {
   "codemirror_mode": {
    "name": "ipython",
    "version": 3
   },
   "file_extension": ".py",
   "mimetype": "text/x-python",
   "name": "python",
   "nbconvert_exporter": "python",
   "pygments_lexer": "ipython3",
   "version": "3.8.3"
  }
 },
 "nbformat": 4,
 "nbformat_minor": 4
}
