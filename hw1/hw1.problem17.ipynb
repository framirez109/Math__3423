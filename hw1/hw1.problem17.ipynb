{
 "cells": [
  {
   "cell_type": "code",
   "execution_count": 1,
   "metadata": {},
   "outputs": [
    {
     "name": "stdout",
     "output_type": "stream",
     "text": [
      "a 0 =  10.0\n",
      "a 1 =  34.0\n",
      "a 2 =  -9.0\n",
      "a 3 =  0.0\n"
     ]
    }
   ],
   "source": [
    "import numpy as np\n",
    "from numpy.linalg import solve\n",
    "\n",
    "\n",
    "def leftMatrix(arr):\n",
    "    return [1, arr[0], arr[0]**2, arr[0]**3]\n",
    "\n",
    "def rightMatrix(arr):\n",
    "    return arr[1]\n",
    "\n",
    "def solve(A, B):\n",
    "    A = np.array(A)\n",
    "    B = np.array(B)\n",
    "    X2 = np.linalg.solve(A,B)\n",
    "    return list(X2) \n",
    "  \n",
    "\n",
    "points = np.array([[0, 10],\n",
    "                  [1, 35], \n",
    "                  [3, 31], \n",
    "                  [4, 2]])\n",
    "\n",
    "A = list() \n",
    "b = list() \n",
    "for i in range(len(points)):\n",
    "    A.append(leftMatrix(points[i]))\n",
    "    b.append(rightMatrix(points[i])) \n",
    "\n",
    "ans = solve(A, b) \n",
    "for i in range(len(ans)):\n",
    "    print('a', i, '= ', ans[i])"
   ]
  },
  {
   "cell_type": "code",
   "execution_count": null,
   "metadata": {},
   "outputs": [],
   "source": []
  }
 ],
 "metadata": {
  "kernelspec": {
   "display_name": "Python 3",
   "language": "python",
   "name": "python3"
  },
  "language_info": {
   "codemirror_mode": {
    "name": "ipython",
    "version": 3
   },
   "file_extension": ".py",
   "mimetype": "text/x-python",
   "name": "python",
   "nbconvert_exporter": "python",
   "pygments_lexer": "ipython3",
   "version": "3.8.3"
  }
 },
 "nbformat": 4,
 "nbformat_minor": 4
}
