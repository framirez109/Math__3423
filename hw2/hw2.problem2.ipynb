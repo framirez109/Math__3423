{
 "cells": [
  {
   "cell_type": "code",
   "execution_count": 1,
   "metadata": {
    "scrolled": true
   },
   "outputs": [
    {
     "name": "stdout",
     "output_type": "stream",
     "text": [
      "ATA solution\n",
      "[[-0.01024744]\n",
      " [ 0.08372907]\n",
      " [ 0.0739815 ]]\n",
      "AAT solution\n",
      "[[-0.01024744]\n",
      " [ 0.08372907]\n",
      " [ 0.0739815 ]]\n"
     ]
    },
    {
     "name": "stderr",
     "output_type": "stream",
     "text": [
      "<ipython-input-1-95e51c66c6a7>:30: LinAlgWarning: Ill-conditioned matrix (rcond=2.40224e-17): result may not be accurate.\n",
      "  y1 = solve(D1, z1)\n"
     ]
    }
   ],
   "source": [
    "import numpy as np \n",
    "from scipy.linalg import ldl\n",
    "from scipy.linalg import solve\n",
    "from scipy.linalg import diagsvd\n",
    "\n",
    "\n",
    "\n",
    "A = np.random.randint(-2,5, size = (5,3))\n",
    "b = np.random.randint(-2,3, size = (5,1))\n",
    "\n",
    "AAT = A @ A.T\n",
    "\n",
    "ATA = A.T @ A\n",
    "\n",
    "ATb = A.T @ b\n",
    "\n",
    "\n",
    "\n",
    "\n",
    "L, D, p = ldl(ATA)\n",
    "\n",
    "L1, D1, p1 = ldl(AAT)\n",
    "\n",
    " \n",
    "z = solve(L , ATb)\n",
    "y = solve(D, z)\n",
    "x = solve(L.T, y)\n",
    "\n",
    "z1 = solve(L1, b)\n",
    "y1 = solve(D1, z1)\n",
    "x1 = solve(L.T, y)\n",
    "print(\"ATA solution\")\n",
    "print(x)\n",
    "print(\"AAT solution\")\n",
    "print(x1)\n"
   ]
  },
  {
   "cell_type": "code",
   "execution_count": null,
   "metadata": {},
   "outputs": [],
   "source": []
  },
  {
   "cell_type": "code",
   "execution_count": null,
   "metadata": {},
   "outputs": [],
   "source": []
  },
  {
   "cell_type": "code",
   "execution_count": null,
   "metadata": {},
   "outputs": [],
   "source": []
  },
  {
   "cell_type": "code",
   "execution_count": null,
   "metadata": {},
   "outputs": [],
   "source": []
  }
 ],
 "metadata": {
  "kernelspec": {
   "display_name": "Python 3",
   "language": "python",
   "name": "python3"
  },
  "language_info": {
   "codemirror_mode": {
    "name": "ipython",
    "version": 3
   },
   "file_extension": ".py",
   "mimetype": "text/x-python",
   "name": "python",
   "nbconvert_exporter": "python",
   "pygments_lexer": "ipython3",
   "version": "3.8.3"
  }
 },
 "nbformat": 4,
 "nbformat_minor": 4
}
