{
 "cells": [
  {
   "cell_type": "code",
   "execution_count": 8,
   "metadata": {
    "scrolled": false
   },
   "outputs": [
    {
     "name": "stdout",
     "output_type": "stream",
     "text": [
      " \n",
      "A solution\n",
      "[[-0.18938053]\n",
      " [-0.44159292]\n",
      " [-0.24867257]]\n",
      " \n",
      "ATA solution\n",
      "[[-0.18938053]\n",
      " [-0.44159292]\n",
      " [-0.24867257]]\n",
      " \n",
      "AA.T solution\n",
      "No solution\n"
     ]
    }
   ],
   "source": [
    "import numpy as np \n",
    "from scipy.linalg import qr\n",
    "from scipy.linalg import solve\n",
    "#\n",
    "\n",
    "m = 5 ; n = 3\n",
    "\n",
    "choice = 0 \n",
    "\n",
    "\n",
    "A = np.random.randint(-2,5 , size=(m, n))\n",
    "b = np.random.randint(-2,3, size=(m, 1))\n",
    "\n",
    "ATA = A.T @ A\n",
    "AAT = A @ A.T\n",
    "ATb = A.T @ b\n",
    "\n",
    "if choice == 0: \n",
    "     Q, R = qr(A, mode='economic')\n",
    "else:\n",
    "     Q, R = qr(A, mode='full')\n",
    "\n",
    "#\n",
    "if choice == 0: \n",
    "  x = solve(R, Q.T @ b)  \n",
    "  \n",
    "  print(\" \")\n",
    "  print(\"A solution\")\n",
    "  print(x)\n",
    "  print(\" \")\n",
    "    \n",
    "\n",
    "print(\"ATA solution\")\n",
    "x = solve(R.T @ R, A.T @ b)\n",
    "print(x)\n",
    "print(\" \")\n",
    "\n",
    "print(\"AA.T solution\")\n",
    "#d = solve(R @ R.T, b) \n",
    "print(\"No solution\") #ValueError: Input b has to have same number of rows as input a"
   ]
  },
  {
   "cell_type": "code",
   "execution_count": null,
   "metadata": {},
   "outputs": [],
   "source": []
  },
  {
   "cell_type": "code",
   "execution_count": null,
   "metadata": {},
   "outputs": [],
   "source": []
  }
 ],
 "metadata": {
  "kernelspec": {
   "display_name": "Python 3",
   "language": "python",
   "name": "python3"
  },
  "language_info": {
   "codemirror_mode": {
    "name": "ipython",
    "version": 3
   },
   "file_extension": ".py",
   "mimetype": "text/x-python",
   "name": "python",
   "nbconvert_exporter": "python",
   "pygments_lexer": "ipython3",
   "version": "3.8.3"
  }
 },
 "nbformat": 4,
 "nbformat_minor": 4
}
