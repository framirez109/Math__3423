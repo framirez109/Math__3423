{
 "cells": [
  {
   "cell_type": "code",
   "execution_count": 19,
   "metadata": {
    "scrolled": true
   },
   "outputs": [
    {
     "name": "stdout",
     "output_type": "stream",
     "text": [
      "[[ 1.          0.          0.        ]\n",
      " [ 0.28571429  1.          0.        ]\n",
      " [-0.14285714 -0.09836066  1.        ]]\n",
      "[[ 1]\n",
      " [-1]\n",
      " [-2]\n",
      " [ 1]\n",
      " [ 1]]\n"
     ]
    }
   ],
   "source": [
    "import numpy as np \n",
    "#from numpy import array\n",
    "from scipy.linalg import ldl\n",
    "from scipy.linalg import solve\n",
    "from scipy.linalg import diagsvd\n",
    "\n",
    "m = 5 ; n = 3\n",
    "\n",
    "\n",
    "\n",
    "A = np.random.randint(-2,5, size = (5,3))\n",
    "b = np.random.randint(-2,3, size = (5,1))\n",
    "\n",
    "AAT = A @ A.T\n",
    "\n",
    "ATA = A.T @ A\n",
    "\n",
    "L, D, p = ldl(ATA)\n",
    "\n",
    "P = diagsvd(p,n, n)\n",
    "\n",
    "\n",
    "\n",
    "print(L[P,:])\n",
    "print(b)\n",
    "\n",
    "P = diagsvd(p,n, n)\n",
    "\n",
    "#z = solve(L, b)\n"
   ]
  },
  {
   "cell_type": "code",
   "execution_count": null,
   "metadata": {},
   "outputs": [],
   "source": []
  },
  {
   "cell_type": "code",
   "execution_count": null,
   "metadata": {},
   "outputs": [],
   "source": []
  },
  {
   "cell_type": "code",
   "execution_count": null,
   "metadata": {},
   "outputs": [],
   "source": []
  },
  {
   "cell_type": "code",
   "execution_count": null,
   "metadata": {},
   "outputs": [],
   "source": []
  }
 ],
 "metadata": {
  "kernelspec": {
   "display_name": "Python 3",
   "language": "python",
   "name": "python3"
  },
  "language_info": {
   "codemirror_mode": {
    "name": "ipython",
    "version": 3
   },
   "file_extension": ".py",
   "mimetype": "text/x-python",
   "name": "python",
   "nbconvert_exporter": "python",
   "pygments_lexer": "ipython3",
   "version": "3.8.3"
  }
 },
 "nbformat": 4,
 "nbformat_minor": 4
}
