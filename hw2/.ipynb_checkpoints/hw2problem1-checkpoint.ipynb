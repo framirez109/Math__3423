{
 "cells": [
  {
   "cell_type": "code",
   "execution_count": 5,
   "metadata": {},
   "outputs": [
    {
     "name": "stdout",
     "output_type": "stream",
     "text": [
      "ATA solution\n",
      "[[ 0.15296566]\n",
      " [-0.23586542]\n",
      " [-0.19979188]]\n",
      " \n",
      "AAT solution\n",
      "[[ 1.39316818e+16]\n",
      " [-6.37933976e+15]\n",
      " [-1.04119151e+16]\n",
      " [-1.01186645e+16]\n",
      " [ 1.19518605e+16]]\n"
     ]
    },
    {
     "name": "stderr",
     "output_type": "stream",
     "text": [
      "<ipython-input-5-f775025dd50f>:37: LinAlgWarning: Ill-conditioned matrix (rcond=4.67027e-18): result may not be accurate.\n",
      "  x1 = solve(U1, y1)\n"
     ]
    }
   ],
   "source": [
    "import numpy as np \n",
    "#from numpy import array\n",
    "from scipy.linalg import qr\n",
    "#from scipy.linalg import inv\n",
    "#from scipy.linalg import pinv\n",
    "from scipy.linalg import solve\n",
    "from scipy.linalg import lu\n",
    "\n",
    "m = 5 ; n = 3\n",
    "\n",
    "\n",
    "A = np.random.randint(-2,5 , size=(m, n) )\n",
    "\n",
    "b = np.random.randint(-2,3, size=(m, 1))\n",
    "\n",
    "\n",
    "ATA = A.T @ A\n",
    "\n",
    "\n",
    "AAT = A @ A.T\n",
    "\n",
    "ATb = A.T @ b\n",
    "\n",
    "\n",
    "\n",
    "P, L, U = lu(ATA)\n",
    "\n",
    "P1, L1, U1 = lu(AAT)\n",
    "\n",
    "\n",
    "#solve ATAx = ATb\n",
    "y = solve(L, P.T @ ATb)\n",
    "x = solve(U, y)\n",
    "\n",
    "#solve AATx = b, AAT  - problem is singular\n",
    "y1 = solve(L1,P1.T @ b)\n",
    "x1 = solve(U1, y1)\n",
    "print(\"ATA solution\")\n",
    "print(x)\n",
    "print(\" \")\n",
    "print(\"AAT solution\")\n",
    "print(x1)\n",
    "\n"
   ]
  },
  {
   "cell_type": "code",
   "execution_count": null,
   "metadata": {},
   "outputs": [],
   "source": []
  },
  {
   "cell_type": "code",
   "execution_count": null,
   "metadata": {},
   "outputs": [],
   "source": []
  }
 ],
 "metadata": {
  "kernelspec": {
   "display_name": "Python 3",
   "language": "python",
   "name": "python3"
  },
  "language_info": {
   "codemirror_mode": {
    "name": "ipython",
    "version": 3
   },
   "file_extension": ".py",
   "mimetype": "text/x-python",
   "name": "python",
   "nbconvert_exporter": "python",
   "pygments_lexer": "ipython3",
   "version": "3.8.3"
  }
 },
 "nbformat": 4,
 "nbformat_minor": 4
}
