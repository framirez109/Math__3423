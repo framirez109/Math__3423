{
 "cells": [
  {
   "cell_type": "code",
   "execution_count": 2,
   "metadata": {},
   "outputs": [
    {
     "name": "stdout",
     "output_type": "stream",
     "text": [
      " ---Verify  A * A^+ * A = A    ----\n",
      "[[ 2.00000000e+00 -1.04337037e-17  1.00000000e+00]\n",
      " [ 2.22044605e-16  3.00000000e+00  1.00000000e+00]\n",
      " [ 4.00000000e+00 -2.08674074e-17  2.00000000e+00]\n",
      " [ 4.00000000e+00  3.07003521e-16  1.05462944e-15]]\n",
      " ---Verify  A^+ * A * A^+ = A^+    ----\n",
      "[[ 1.23487110e-16  5.11672536e-17  1.76330178e-16  2.50000000e-01]\n",
      " [-6.66666667e-02  3.33333333e-01 -1.33333333e-01  1.66666667e-01]\n",
      " [ 2.00000000e-01 -1.09290310e-16  4.00000000e-01 -5.00000000e-01]]\n"
     ]
    }
   ],
   "source": [
    "import numpy as np\n",
    "from scipy.linalg import diagsvd\n",
    "from scipy.linalg import pinv\n",
    "#from scipy.linalg import inv\n",
    "from scipy.linalg import svd\n",
    "\n",
    "m = 4 ; n = 3\n",
    "\n",
    "A = np.random.randint(0, 5, size=(m, n) )\n",
    "b = np.random.randint(-1, 3, size=(m, 1))\n",
    "\n",
    "U, sigma, VT = svd(A)\n",
    "Sigma = diagsvd(sigma, m, n)\n",
    "PseudoA = (VT).T @ pinv(Sigma) @ U.T \n",
    "print(\" ---Verify  A * A^+ * A = A    ----\" )\n",
    "print(  A @ PseudoA @ A )\n",
    "print(\" ---Verify  A^+ * A * A^+ = A^+    ----\" )\n",
    "print(  PseudoA @ A @ PseudoA )"
   ]
  },
  {
   "cell_type": "code",
   "execution_count": null,
   "metadata": {},
   "outputs": [],
   "source": []
  }
 ],
 "metadata": {
  "kernelspec": {
   "display_name": "Python 3",
   "language": "python",
   "name": "python3"
  },
  "language_info": {
   "codemirror_mode": {
    "name": "ipython",
    "version": 3
   },
   "file_extension": ".py",
   "mimetype": "text/x-python",
   "name": "python",
   "nbconvert_exporter": "python",
   "pygments_lexer": "ipython3",
   "version": "3.8.3"
  }
 },
 "nbformat": 4,
 "nbformat_minor": 4
}
