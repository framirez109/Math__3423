{
 "cells": [
  {
   "cell_type": "code",
   "execution_count": 8,
   "metadata": {},
   "outputs": [
    {
     "name": "stdout",
     "output_type": "stream",
     "text": [
      "Ax = b solution\n",
      "[[-3.56603774]\n",
      " [ 0.37735849]\n",
      " [ 0.60377358]]\n"
     ]
    }
   ],
   "source": [
    "import numpy as np\n",
    "from numpy import array\n",
    "from scipy.linalg import solve\n",
    "\n",
    "#PROBLEM 1\n",
    "\n",
    "A = np.random.randint(0, 5, size=(4, 3))\n",
    "b = np.random.randint(-1,3, size=(4, 1))\n",
    "c = np.random.randint(-1,3 ,size=(3, 1))\n",
    "\n",
    "AT = A.T\n",
    "\n",
    "Q, R = qr(A)\n",
    "\n",
    "y = solve(Q, b)\n",
    "print(\"Ax = b solution\")\n",
    "x = solve(R.T @ R, R.T @ y)\n",
    "print(x)"
   ]
  },
  {
   "cell_type": "code",
   "execution_count": 10,
   "metadata": {},
   "outputs": [
    {
     "name": "stdout",
     "output_type": "stream",
     "text": [
      "Ax = b solution\n",
      "[[-1.03409091]\n",
      " [ 0.97727273]\n",
      " [ 0.63636364]]\n"
     ]
    }
   ],
   "source": [
    "import numpy as np\n",
    "from scipy.linalg import diagsvd\n",
    "from scipy.linalg import pinv\n",
    "#from scipy.linalg import inv\n",
    "from scipy.linalg import svd\n",
    "\n",
    "#PROBLEM 2\n",
    "\n",
    "m = 4 ; n = 3\n",
    "\n",
    "A = np.random.randint(0, 5, size=(m, n))\n",
    "b = np.random.randint(-1, 3, size=(m, 1) )\n",
    "c = np.random.randint(-1, 3, size=(n, 1) )\n",
    "\n",
    "AT = A.T\n",
    "\n",
    "\n",
    "\n",
    "\n",
    "U, sigma, VT = svd(A)\n",
    "Sigma = diagsvd(sigma, m, n)\n",
    "\n",
    "PseudoA = (VT).T @ pinv(Sigma) @ U.T \n",
    "\n",
    "\n",
    "U1, sigma1, VT1 = svd(AT)\n",
    "Sigma1 = diagsvd(sigma1,m, n)\n",
    "\n",
    "#PseudoA1 = VT1.T @ pinv(Sigma1) @ U1.T \n",
    "\n",
    "\n",
    "x = PseudoA @  b\n",
    "print(\"Ax = b solution\")\n",
    "print(x)"
   ]
  },
  {
   "cell_type": "code",
   "execution_count": 12,
   "metadata": {},
   "outputs": [
    {
     "name": "stdout",
     "output_type": "stream",
     "text": [
      "ATA solution\n",
      "[[-0.65957447]\n",
      " [-0.4787234 ]\n",
      " [ 0.95744681]]\n"
     ]
    }
   ],
   "source": [
    "import numpy as np \n",
    "from scipy.linalg import solve\n",
    "from scipy.linalg import cholesky\n",
    "from scipy.linalg import norm, solve_triangular\n",
    "\n",
    "#PROBLEM 3\n",
    "\n",
    "A = np.random.randint(0,5, size = (4,3))\n",
    "b = np.random.randint(-1,3, size = (4,1))\n",
    "\n",
    "\n",
    "ATA = A.T @ A\n",
    "\n",
    "ATb = A.T @ b\n",
    "\n",
    "R = cholesky(ATA)\n",
    "\n",
    "\n",
    "\n",
    "w = solve(R.T, ATb)\n",
    "x = solve(R, w)\n",
    "\n",
    "\n",
    "print(\"ATA solution\")\n",
    "print(x)"
   ]
  },
  {
   "cell_type": "code",
   "execution_count": 13,
   "metadata": {},
   "outputs": [
    {
     "name": "stdout",
     "output_type": "stream",
     "text": [
      "ATA solution\n",
      "[[ 0.86425339]\n",
      " [-1.88687783]\n",
      " [ 0.19004525]]\n",
      " \n"
     ]
    }
   ],
   "source": [
    "# PROBLEM 4\n",
    "\n",
    "import numpy as np \n",
    "#from numpy import array\n",
    "from scipy.linalg import qr\n",
    "#from scipy.linalg import inv\n",
    "#from scipy.linalg import pinv\n",
    "from scipy.linalg import solve\n",
    "#\n",
    "\n",
    "m = 4 ; n = 3\n",
    "\n",
    "choice = 0 \n",
    "\n",
    "\n",
    "A = np.random.randint(0,5 , size=(m, n) )\n",
    "\n",
    "\n",
    "b = np.random.randint(-1,3, size=(m, 1))\n",
    "\n",
    "\n",
    "if choice == 0: \n",
    "     Q, R = qr(A, mode='economic')\n",
    "else:\n",
    "     Q, R = qr(A, mode='full')\n",
    "\n",
    "\n",
    "print(\"ATA solution\")\n",
    "x1 = solve(R.T @ R, A.T @ b)\n",
    "print(x1)\n",
    "print(\" \")"
   ]
  },
  {
   "cell_type": "code",
   "execution_count": 14,
   "metadata": {},
   "outputs": [
    {
     "name": "stdout",
     "output_type": "stream",
     "text": [
      "ATA solution\n",
      "[[ 0.41860465]\n",
      " [-0.02325581]\n",
      " [ 0.09302326]]\n"
     ]
    }
   ],
   "source": [
    "#PROBLEM 5\n",
    "\n",
    "import numpy as np \n",
    "from scipy.linalg import ldl\n",
    "from scipy.linalg import solve\n",
    "from scipy.linalg import diagsvd\n",
    "from scipy.linalg import svd, pinv\n",
    "\n",
    "m = 4 ; n = 3\n",
    "\n",
    "\n",
    "\n",
    "A = np.random.randint(0,5, size = (4,3))\n",
    "b = np.random.randint(-1,3, size = (4,1))\n",
    "c = np.random.randint(-1, 3, size =(3,1))\n",
    "\n",
    "ATA = A.T @ A\n",
    "\n",
    "ATb = A.T @ b\n",
    "\n",
    "U, sigma, VT = svd(ATA)\n",
    "\n",
    "\n",
    "\n",
    "V = VT.T\n",
    "\n",
    "\n",
    "Sigma = diagsvd(sigma, n, n)\n",
    "\n",
    "z = U.T @ ATb\n",
    "z\n",
    "\n",
    "\n",
    "\n",
    "y = pinv(Sigma) @ z\n",
    "\n",
    "x = V @ y\n",
    "\n",
    "print(\"ATA solution\")\n",
    "print(x)\n",
    "\n"
   ]
  },
  {
   "cell_type": "code",
   "execution_count": 16,
   "metadata": {},
   "outputs": [
    {
     "name": "stdout",
     "output_type": "stream",
     "text": [
      "ATA eig_values\n",
      "[68.89799679  0.49819917  7.60380404]\n",
      " \n",
      "ATA eig_vectors\n",
      "[[ 0.36929457  0.91607776 -0.15627881]\n",
      " [ 0.56092879 -0.35380733 -0.74845124]\n",
      " [ 0.74093212 -0.18873769  0.64451352]]\n",
      " \n",
      "AAT eig_values\n",
      "[6.88979968e+01 7.60380404e+00 1.76666699e-15 4.98199166e-01]\n",
      " \n",
      "AAT eig_vectors\n",
      "[[ 5.81192198e-01  2.78728582e-01  5.57086015e-01  5.23623127e-01]\n",
      " [ 5.36701459e-01  3.35402684e-01  1.02177090e-14 -7.74245816e-01]\n",
      " [ 2.47224320e-01 -8.70945743e-01  3.71390676e-01 -2.05918952e-01]\n",
      " [ 5.59506308e-01 -2.26426435e-01 -7.42781353e-01  2.89757869e-01]]\n"
     ]
    }
   ],
   "source": [
    "#PROBLEM 6\n",
    "\n",
    "import numpy as np\n",
    "from numpy.linalg import eig\n",
    "\n",
    "A = np.random.randint(0, 5,size = (4,3))\n",
    "b = np.random.randint(-1,3, size = (4,1))\n",
    "\n",
    "ATA = A.T @ A \n",
    "AAT = A @ A.T\n",
    "\n",
    "eig_values, eig_vectors = eig(ATA)\n",
    "eig_values1, eig_vectors1 = eig(AAT)\n",
    "\n",
    "print(\"ATA eig_values\")\n",
    "print(eig_values)\n",
    "print(\" \")\n",
    "print(\"ATA eig_vectors\")\n",
    "print(eig_vectors)\n",
    "print(\" \")\n",
    "print(\"AAT eig_values\")\n",
    "print(eig_values1)\n",
    "print(\" \")\n",
    "print(\"AAT eig_vectors\")\n",
    "print(eig_vectors1)"
   ]
  },
  {
   "cell_type": "code",
   "execution_count": 17,
   "metadata": {},
   "outputs": [
    {
     "name": "stdout",
     "output_type": "stream",
     "text": [
      " ---Verify  A * A^+ * A = A    ----\n",
      "[[2.00000000e+00 4.00000000e+00 7.99360578e-15]\n",
      " [1.00000000e+00 1.00000000e+00 2.00000000e+00]\n",
      " [1.00000000e+00 1.00000000e+00 3.00000000e+00]\n",
      " [2.00000000e+00 2.00000000e+00 4.00000000e+00]]\n",
      " ---Verify  A^+ * A * A^+ = A^+    ----\n",
      "[[-5.00000000e-01  1.20000000e+00 -4.00000000e+00  2.40000000e+00]\n",
      " [ 5.00000000e-01 -6.00000000e-01  2.00000000e+00 -1.20000000e+00]\n",
      " [ 4.49265102e-16 -2.00000000e-01  1.00000000e+00 -4.00000000e-01]]\n"
     ]
    }
   ],
   "source": [
    "#PROBLEM 7\n",
    "\n",
    "import numpy as np\n",
    "from scipy.linalg import diagsvd\n",
    "from scipy.linalg import pinv\n",
    "#from scipy.linalg import inv\n",
    "from scipy.linalg import svd\n",
    "\n",
    "m = 4 ; n = 3\n",
    "\n",
    "A = np.random.randint(0, 5, size=(m, n) )\n",
    "b = np.random.randint(-1, 3, size=(m, 1))\n",
    "\n",
    "U, sigma, VT = svd(A)\n",
    "Sigma = diagsvd(sigma, m, n)\n",
    "PseudoA = (VT).T @ pinv(Sigma) @ U.T \n",
    "print(\" ---Verify  A * A^+ * A = A    ----\" )\n",
    "print(  A @ PseudoA @ A )\n",
    "print(\" ---Verify  A^+ * A * A^+ = A^+    ----\" )\n",
    "print(  PseudoA @ A @ PseudoA )"
   ]
  },
  {
   "cell_type": "code",
   "execution_count": null,
   "metadata": {},
   "outputs": [],
   "source": []
  }
 ],
 "metadata": {
  "kernelspec": {
   "display_name": "Python 3",
   "language": "python",
   "name": "python3"
  },
  "language_info": {
   "codemirror_mode": {
    "name": "ipython",
    "version": 3
   },
   "file_extension": ".py",
   "mimetype": "text/x-python",
   "name": "python",
   "nbconvert_exporter": "python",
   "pygments_lexer": "ipython3",
   "version": "3.8.3"
  }
 },
 "nbformat": 4,
 "nbformat_minor": 4
}
