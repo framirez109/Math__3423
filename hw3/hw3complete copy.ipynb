{
 "cells": [
  {
   "cell_type": "code",
   "execution_count": 3,
   "metadata": {},
   "outputs": [
    {
     "name": "stdout",
     "output_type": "stream",
     "text": [
      "Ax = b solution\n",
      "[[ 1.5]\n",
      " [ 5. ]\n",
      " [-7. ]]\n",
      " \n"
     ]
    }
   ],
   "source": [
    "import numpy as np\n",
    "from numpy import array\n",
    "from scipy.linalg import solve\n",
    "from scipy.linalg import qr\n",
    "\n",
    "\n",
    "\n",
    "#PROBLEM 1\n",
    "\n",
    "A = np.random.randint(0, 5, size=(4, 3))\n",
    "b = np.random.randint(-1,3, size=(4, 1))\n",
    "c = np.random.randint(-1,3 ,size=(3, 1))\n",
    "\n",
    "AT = A.T \n",
    "\n",
    "Q, R = qr(A,mode = \"economic\")\n",
    "\n",
    "print(\"Ax = b solution\")\n",
    "x = solve(R, Q.T @ b)\n",
    "print(x)\n",
    "print(\" \")\n",
    "\n",
    "\n",
    "QQ, RR = qr(AT, mode = \"economic\")\n",
    "\n",
    "#y = solve(RR, QQ.T @ c)\n",
    "#print(y)\n",
    "#print(\"ATy = c\")\n",
    "#print(y)"
   ]
  },
  {
   "cell_type": "code",
   "execution_count": 8,
   "metadata": {},
   "outputs": [
    {
     "name": "stdout",
     "output_type": "stream",
     "text": [
      "Ax = b solution\n",
      "[[ 2.22044605e-15]\n",
      " [ 6.66666667e-01]\n",
      " [-2.22222222e-01]]\n",
      " \n",
      "ATy = c solution\n",
      "[[ 0.66666667]\n",
      " [-0.55555556]\n",
      " [ 0.44444444]\n",
      " [-0.11111111]]\n"
     ]
    }
   ],
   "source": [
    "import numpy as np\n",
    "from scipy.linalg import diagsvd\n",
    "from scipy.linalg import pinv\n",
    "#from scipy.linalg import inv\n",
    "from scipy.linalg import svd\n",
    "\n",
    "#PROBLEM 2\n",
    "\n",
    "m = 4 ; n = 3\n",
    "\n",
    "A = np.random.randint(0, 5, size=(m, n))\n",
    "b = np.random.randint(-1, 3, size=(m, 1) )\n",
    "c = np.random.randint(-1, 3, size=(n, 1) )\n",
    "\n",
    "AT = A.T\n",
    "\n",
    "\n",
    "\n",
    "U, sigma, VT = svd(A)\n",
    "Sigma = diagsvd(sigma, m, n)\n",
    "\n",
    "PseudoA = (VT).T @ pinv(Sigma) @ U.T \n",
    "\n",
    "#####################################\n",
    "\n",
    "U1, sigma1, VT1 = svd(AT)\n",
    "Sigma1 = diagsvd(sigma1,n, m) \n",
    "\n",
    "PseudoA1 = VT1.T @ pinv(Sigma1) @ U1.T \n",
    "\n",
    "\n",
    "x = PseudoA @ b\n",
    "print(\"Ax = b solution\")\n",
    "print(x)\n",
    "print(\" \")\n",
    "print(\"ATy = c solution\")\n",
    "x1 = PseudoA1 @ c\n",
    "print(x1)"
   ]
  },
  {
   "cell_type": "code",
   "execution_count": 10,
   "metadata": {},
   "outputs": [
    {
     "name": "stdout",
     "output_type": "stream",
     "text": [
      "ATA solution\n",
      "[[ 0.3380486 ]\n",
      " [-0.49183896]\n",
      " [ 0.07072905]]\n"
     ]
    }
   ],
   "source": [
    "import numpy as np \n",
    "from scipy.linalg import solve\n",
    "from scipy.linalg import cholesky\n",
    "from scipy.linalg import norm, solve_triangular\n",
    "\n",
    "#PROBLEM 3\n",
    "\n",
    "A = np.random.randint(0,5, size = (4,3))\n",
    "b = np.random.randint(-1,3, size = (4,1))\n",
    "\n",
    "\n",
    "ATA = A.T @ A\n",
    "\n",
    "ATb = A.T @ b\n",
    "\n",
    "\n",
    "R = cholesky(ATA)\n",
    "\n",
    "\n",
    "w = solve(R.T, ATb)\n",
    "x = solve(R, w)\n",
    "\n",
    "\n",
    "print(\"ATA solution\")\n",
    "print(x)"
   ]
  },
  {
   "cell_type": "code",
   "execution_count": 11,
   "metadata": {},
   "outputs": [
    {
     "name": "stdout",
     "output_type": "stream",
     "text": [
      "ATA solution\n",
      "[[-2.]\n",
      " [ 1.]\n",
      " [ 1.]]\n",
      " \n"
     ]
    }
   ],
   "source": [
    "# PROBLEM 4\n",
    "\n",
    "import numpy as np \n",
    "#from numpy import array\n",
    "from scipy.linalg import qr\n",
    "#from scipy.linalg import inv\n",
    "#from scipy.linalg import pinv\n",
    "from scipy.linalg import solve\n",
    "\n",
    "\n",
    "m = 4 ; n = 3\n",
    "\n",
    "\n",
    "A = np.random.randint(0,5 , size=(m, n) )\n",
    "\n",
    "ATA = A.T @ A\n",
    "\n",
    "b = np.random.randint(-1,3, size=(m, 1))\n",
    "\n",
    "\n",
    "\n",
    "Q, R = qr(ATA, mode='economic')\n",
    "\n",
    "        \n",
    "print(\"ATA solution\")\n",
    "x1 = solve(R, Q.T @ A.T @ b)\n",
    "print(x1)\n",
    "print(\" \")"
   ]
  },
  {
   "cell_type": "code",
   "execution_count": 12,
   "metadata": {},
   "outputs": [
    {
     "name": "stdout",
     "output_type": "stream",
     "text": [
      "ATA solution\n",
      "[[-0.46938776]\n",
      " [ 1.0952381 ]\n",
      " [-0.26530612]]\n"
     ]
    }
   ],
   "source": [
    "#PROBLEM 5\n",
    "\n",
    "import numpy as np \n",
    "from scipy.linalg import ldl\n",
    "from scipy.linalg import solve\n",
    "from scipy.linalg import diagsvd\n",
    "from scipy.linalg import svd, pinv\n",
    "\n",
    "m = 4 ; n = 3\n",
    "\n",
    "\n",
    "\n",
    "A = np.random.randint(0,5, size = (4,3))\n",
    "b = np.random.randint(-1,3, size = (4,1))\n",
    "c = np.random.randint(-1, 3, size =(3,1))\n",
    "\n",
    "ATA = A.T @ A\n",
    "\n",
    "ATb = A.T @ b\n",
    "\n",
    "U1, sigma1, VT1 = svd(ATA)\n",
    "\n",
    "\n",
    "Sigma1 = diagsvd(sigma1,3,3) \n",
    "\n",
    "PseudoA1 = VT1.T @ pinv(Sigma1) @ U1.T \n",
    "x = PseudoA1 @ A.T @ b\n",
    "print(\"ATA solution\")\n",
    "print(x)"
   ]
  },
  {
   "cell_type": "code",
   "execution_count": 13,
   "metadata": {},
   "outputs": [
    {
     "name": "stdout",
     "output_type": "stream",
     "text": [
      "ATA eig_values\n",
      "[48.92250568 17.30447452  1.77301979]\n",
      " \n",
      "ATA eig_vectors\n",
      "[[-0.63832757 -0.71838168  0.27652429]\n",
      " [-0.57464942  0.2057016  -0.79212682]\n",
      " [-0.51216791  0.66454091  0.54412262]]\n",
      " \n",
      "AAT eig_values\n",
      "[ 4.89225057e+01  1.73044745e+01 -3.71381633e-16  1.77301979e+00]\n",
      " \n",
      "AAT eig_vectors\n",
      "[[ 0.53937238  0.78734974 -0.25811287  0.15011851]\n",
      " [ 0.50239285 -0.14913024  0.10324515 -0.84540052]\n",
      " [ 0.420064   -0.08673822  0.82596117  0.36580167]\n",
      " [ 0.52936292 -0.59187586 -0.49041445  0.35909822]]\n"
     ]
    }
   ],
   "source": [
    "#PROBLEM 6\n",
    "\n",
    "import numpy as np\n",
    "from numpy.linalg import eig\n",
    "\n",
    "A = np.random.randint(0, 5,size = (4,3))\n",
    "b = np.random.randint(-1,3, size = (4,1))\n",
    "\n",
    "ATA = A.T @ A \n",
    "AAT = A @ A.T\n",
    "\n",
    "eig_values, eig_vectors = eig(ATA)\n",
    "eig_values1, eig_vectors1 = eig(AAT)\n",
    "\n",
    "print(\"ATA eig_values\")\n",
    "print(eig_values)\n",
    "print(\" \")\n",
    "print(\"ATA eig_vectors\")\n",
    "print(eig_vectors)\n",
    "print(\" \")\n",
    "print(\"AAT eig_values\")\n",
    "print(eig_values1)\n",
    "print(\" \")\n",
    "print(\"AAT eig_vectors\")\n",
    "print(eig_vectors1)"
   ]
  },
  {
   "cell_type": "code",
   "execution_count": 25,
   "metadata": {},
   "outputs": [
    {
     "name": "stdout",
     "output_type": "stream",
     "text": [
      "[[4 3 4]\n",
      " [3 4 3]\n",
      " [2 2 2]\n",
      " [4 2 4]]\n",
      "[[ 0.06349206 -0.11904762 -0.01587302  0.15873016]\n",
      " [-0.04761905  0.38095238  0.0952381  -0.28571429]\n",
      " [ 0.06349206 -0.11904762 -0.01587302  0.15873016]]\n",
      " ---Verify  A * A^+ * A = A    ----\n",
      "[[4. 3. 4.]\n",
      " [3. 4. 3.]\n",
      " [2. 2. 2.]\n",
      " [4. 2. 4.]]\n",
      " ---Verify  A^+ * A * A^+ = A^+    ----\n",
      "[[ 0.06349206 -0.11904762 -0.01587302  0.15873016]\n",
      " [-0.04761905  0.38095238  0.0952381  -0.28571429]\n",
      " [ 0.06349206 -0.11904762 -0.01587302  0.15873016]]\n"
     ]
    }
   ],
   "source": [
    "#PROBLEM 7\n",
    "\n",
    "import numpy as np\n",
    "from scipy.linalg import diagsvd\n",
    "from scipy.linalg import pinv\n",
    "#from scipy.linalg import inv\n",
    "from scipy.linalg import svd\n",
    "\n",
    "m = 4 ; n = 3\n",
    "\n",
    "A = np.random.randint(0, 5, size=(m, n) )\n",
    "b = np.random.randint(-1, 3, size=(m, 1))\n",
    "\n",
    "print(A)\n",
    "\n",
    "\n",
    "U, sigma, VT = svd(A)\n",
    "Sigma = diagsvd(sigma, m, n)\n",
    "PseudoA = (VT).T @ pinv(Sigma) @ U.T \n",
    "print(PseudoA)\n",
    "print(\" ---Verify  A * A^+ * A = A    ----\" )\n",
    "print(  A @ PseudoA @ A )\n",
    "print(\" ---Verify  A^+ * A * A^+ = A^+    ----\" )\n",
    "print(  PseudoA @ A @ PseudoA )"
   ]
  },
  {
   "cell_type": "code",
   "execution_count": null,
   "metadata": {},
   "outputs": [],
   "source": []
  },
  {
   "cell_type": "code",
   "execution_count": null,
   "metadata": {},
   "outputs": [],
   "source": []
  }
 ],
 "metadata": {
  "kernelspec": {
   "display_name": "Python 3",
   "language": "python",
   "name": "python3"
  },
  "language_info": {
   "codemirror_mode": {
    "name": "ipython",
    "version": 3
   },
   "file_extension": ".py",
   "mimetype": "text/x-python",
   "name": "python",
   "nbconvert_exporter": "python",
   "pygments_lexer": "ipython3",
   "version": "3.8.3"
  }
 },
 "nbformat": 4,
 "nbformat_minor": 4
}
