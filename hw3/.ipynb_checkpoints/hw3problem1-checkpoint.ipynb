{
 "cells": [
  {
   "cell_type": "code",
   "execution_count": 19,
   "metadata": {},
   "outputs": [
    {
     "name": "stdout",
     "output_type": "stream",
     "text": [
      "Ax = b\n",
      "[[-0.58432304]\n",
      " [ 0.29334917]\n",
      " [ 0.43467933]]\n"
     ]
    }
   ],
   "source": [
    "import numpy as np\n",
    "from numpy import array\n",
    "from scipy.linalg import solve\n",
    "\n",
    "\n",
    "\n",
    "A = np.random.randint(0, 5, size=(4, 3))\n",
    "b = np.random.randint(-1,3, size=(4, 1))\n",
    "c = np.random.randint(-1,3 ,size=(3, 1))\n",
    "\n",
    "AT = A.T\n",
    "\n",
    "Q, R = qr(A)\n",
    "\n",
    "y = solve(Q, b)\n",
    "print(\"Ax = b solution\")\n",
    "x = solve(R.T @ R, R.T @ y)\n",
    "print(x)"
   ]
  },
  {
   "cell_type": "code",
   "execution_count": null,
   "metadata": {},
   "outputs": [],
   "source": []
  }
 ],
 "metadata": {
  "kernelspec": {
   "display_name": "Python 3",
   "language": "python",
   "name": "python3"
  },
  "language_info": {
   "codemirror_mode": {
    "name": "ipython",
    "version": 3
   },
   "file_extension": ".py",
   "mimetype": "text/x-python",
   "name": "python",
   "nbconvert_exporter": "python",
   "pygments_lexer": "ipython3",
   "version": "3.8.3"
  }
 },
 "nbformat": 4,
 "nbformat_minor": 4
}
