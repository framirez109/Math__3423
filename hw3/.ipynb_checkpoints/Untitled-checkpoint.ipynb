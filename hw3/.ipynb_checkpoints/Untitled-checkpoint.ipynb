{
 "cells": [
  {
   "cell_type": "code",
   "execution_count": 14,
   "metadata": {},
   "outputs": [
    {
     "name": "stdout",
     "output_type": "stream",
     "text": [
      "ATA eig_values\n",
      "[46.52609552  1.81123345  8.66267104]\n",
      " \n",
      "ATA eig_vectors\n",
      "[[-0.54540802 -0.65348994  0.52486283]\n",
      " [-0.7520165   0.10499429 -0.65072834]\n",
      " [-0.37013683  0.74961796  0.54869995]]\n",
      " \n",
      "AAT eig_values\n",
      "[4.65260955e+01 8.66267104e+00 2.36831314e-15 1.81123345e+00]\n",
      " \n",
      "AAT eig_vectors\n",
      "[[ 0.33075036  0.6632772   0.62919823 -0.23404519]\n",
      " [ 0.65518491  0.34128621 -0.66620989  0.10208252]\n",
      " [ 0.6231733  -0.65208091  0.22206996 -0.37031131]\n",
      " [ 0.27017028 -0.1355639   0.33310494  0.8931246 ]]\n"
     ]
    }
   ],
   "source": [
    "import numpy as np\n",
    "from numpy.linalg import eig\n",
    "\n",
    "A = np.random.randint(0, 5,size = (4,3))\n",
    "b = np.random.randint(-1,3, size = (4,1))\n",
    "\n",
    "ATA = A.T @ A \n",
    "AAT = A @ A.T\n",
    "\n",
    "eig_values, eig_vectors = eig(ATA)\n",
    "eig_values1, eig_vectors1 = eig(AAT)\n",
    "\n",
    "print(\"ATA eig_values\")\n",
    "print(eig_values)\n",
    "print(\" \")\n",
    "print(\"ATA eig_vectors\")\n",
    "print(eig_vectors)\n",
    "print(\" \")\n",
    "print(\"AAT eig_values\")\n",
    "print(eig_values1)\n",
    "print(\" \")\n",
    "print(\"AAT eig_vectors\")\n",
    "print(eig_vectors1)"
   ]
  },
  {
   "cell_type": "code",
   "execution_count": null,
   "metadata": {},
   "outputs": [],
   "source": []
  }
 ],
 "metadata": {
  "kernelspec": {
   "display_name": "Python 3",
   "language": "python",
   "name": "python3"
  },
  "language_info": {
   "codemirror_mode": {
    "name": "ipython",
    "version": 3
   },
   "file_extension": ".py",
   "mimetype": "text/x-python",
   "name": "python",
   "nbconvert_exporter": "python",
   "pygments_lexer": "ipython3",
   "version": "3.8.3"
  }
 },
 "nbformat": 4,
 "nbformat_minor": 4
}
