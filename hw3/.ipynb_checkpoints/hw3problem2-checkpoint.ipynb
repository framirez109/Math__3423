{
 "cells": [
  {
   "cell_type": "code",
   "execution_count": 2,
   "metadata": {},
   "outputs": [
    {
     "name": "stdout",
     "output_type": "stream",
     "text": [
      "Solution Vector x =\n",
      "[[ 0.43108108]\n",
      " [-0.19459459]\n",
      " [-0.14864865]]\n"
     ]
    }
   ],
   "source": [
    "import numpy as np\n",
    "from scipy.linalg import diagsvd\n",
    "from scipy.linalg import pinv\n",
    "#from scipy.linalg import inv\n",
    "from scipy.linalg import svd\n",
    "\n",
    "m = 4 ; n = 3\n",
    "\n",
    "A = np.random.randint(0, 5, size=(m, n))\n",
    "b = np.random.randint(-1, 3, size=(m, 1) )\n",
    "c = np.random.randint(-1, 3, size=(n, 1) )\n",
    "\n",
    "AT = A.T\n",
    "\n",
    "\n",
    "\n",
    "\n",
    "U, sigma, VT = svd(A)\n",
    "Sigma = diagsvd(sigma, m, n)\n",
    "\n",
    "PseudoA = (VT).T @ pinv(Sigma) @ U.T \n",
    "\n",
    "\n",
    "U1, sigma1, VT1 = svd(AT)\n",
    "Sigma1 = diagsvd(sigma1,m, n)\n",
    "\n",
    "#PseudoA1 = VT1.T @ pinv(Sigma1) @ U1.T \n",
    "\n",
    "\n",
    "x = PseudoA @  b\n",
    "print(\"Solution Vector x =\")\n",
    "print(x)\n"
   ]
  },
  {
   "cell_type": "code",
   "execution_count": null,
   "metadata": {},
   "outputs": [],
   "source": []
  }
 ],
 "metadata": {
  "kernelspec": {
   "display_name": "Python 3",
   "language": "python",
   "name": "python3"
  },
  "language_info": {
   "codemirror_mode": {
    "name": "ipython",
    "version": 3
   },
   "file_extension": ".py",
   "mimetype": "text/x-python",
   "name": "python",
   "nbconvert_exporter": "python",
   "pygments_lexer": "ipython3",
   "version": "3.8.3"
  }
 },
 "nbformat": 4,
 "nbformat_minor": 4
}
