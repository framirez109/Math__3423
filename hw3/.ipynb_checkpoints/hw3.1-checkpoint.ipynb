{
 "cells": [
  {
   "cell_type": "code",
   "execution_count": 41,
   "metadata": {
    "scrolled": true
   },
   "outputs": [
    {
     "name": "stdout",
     "output_type": "stream",
     "text": [
      "ATA solution\n",
      "[[0.43614248]\n",
      " [0.16159861]\n",
      " [0.16768028]]\n"
     ]
    }
   ],
   "source": [
    "#hw3.problem5\n",
    "\n",
    "import numpy as np \n",
    "from scipy.linalg import ldl\n",
    "from scipy.linalg import solve\n",
    "from scipy.linalg import diagsvd\n",
    "from scipy.linalg import svd, pinv\n",
    "\n",
    "m = 4 ; n = 3\n",
    "\n",
    "\n",
    "\n",
    "A = np.random.randint(0,5, size = (4,3))\n",
    "b = np.random.randint(-1,3, size = (4,1))\n",
    "c = np.random.randint(-1, 3, size =(3,1))\n",
    "\n",
    "ATA = A.T @ A\n",
    "\n",
    "ATb = A.T @ b\n",
    "\n",
    "U, sigma, VT = svd(ATA)\n",
    "\n",
    "\n",
    "\n",
    "V = VT.T\n",
    "\n",
    "\n",
    "Sigma = diagsvd(sigma, n, n)\n",
    "\n",
    "z = U.T @ ATb\n",
    "z\n",
    "\n",
    "\n",
    "\n",
    "y = pinv(Sigma) @ z\n",
    "\n",
    "x = V @ y\n",
    "\n",
    "\n",
    "print(\"ATA solution\")\n",
    "print(x)\n",
    "\n",
    "\n"
   ]
  },
  {
   "cell_type": "code",
   "execution_count": null,
   "metadata": {},
   "outputs": [],
   "source": []
  },
  {
   "cell_type": "code",
   "execution_count": null,
   "metadata": {},
   "outputs": [],
   "source": []
  }
 ],
 "metadata": {
  "kernelspec": {
   "display_name": "Python 3",
   "language": "python",
   "name": "python3"
  },
  "language_info": {
   "codemirror_mode": {
    "name": "ipython",
    "version": 3
   },
   "file_extension": ".py",
   "mimetype": "text/x-python",
   "name": "python",
   "nbconvert_exporter": "python",
   "pygments_lexer": "ipython3",
   "version": "3.8.3"
  }
 },
 "nbformat": 4,
 "nbformat_minor": 4
}
