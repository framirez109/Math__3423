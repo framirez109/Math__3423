{
 "cells": [
  {
   "cell_type": "code",
   "execution_count": 1,
   "metadata": {},
   "outputs": [
    {
     "name": "stdout",
     "output_type": "stream",
     "text": [
      "ATA eig_values\n",
      "[54.03770902  3.          0.96229098]\n",
      " \n",
      "ATA eig_vectors\n",
      "[[-5.66263346e-01 -7.07106781e-01 -4.23492412e-01]\n",
      " [-5.66263346e-01  7.07106781e-01 -4.23492412e-01]\n",
      " [-5.98908712e-01 -1.21297886e-15  8.00817304e-01]]\n",
      " \n",
      "AAT eig_values\n",
      "[5.40377090e+01 2.39599217e-16 9.62290981e-01 3.00000000e+00]\n",
      " \n",
      "AAT eig_vectors\n",
      "[[-1.54063579e-01 -4.80384461e-01 -8.63420629e-01 -3.26231024e-16]\n",
      " [-4.71072579e-01  3.20256308e-01 -9.41268063e-02 -8.16496581e-01]\n",
      " [-8.65113369e-01 -1.60128154e-01  2.43456702e-01  4.08248290e-01]\n",
      " [-7.70317895e-02  8.00640769e-01 -4.31710315e-01  4.08248290e-01]]\n"
     ]
    }
   ],
   "source": [
    "import numpy as np\n",
    "from numpy.linalg import eig\n",
    "\n",
    "A = np.random.randint(0, 5,size = (4,3))\n",
    "b = np.random.randint(-1,3, size = (4,1))\n",
    "\n",
    "ATA = A.T @ A \n",
    "AAT = A @ A.T\n",
    "\n",
    "eig_values, eig_vectors = eig(ATA)\n",
    "eig_values1, eig_vectors1 = eig(AAT)\n",
    "\n",
    "print(\"ATA eig_values\")\n",
    "print(eig_values)\n",
    "print(\" \")\n",
    "print(\"ATA eig_vectors\")\n",
    "print(eig_vectors)\n",
    "print(\" \")\n",
    "print(\"AAT eig_values\")\n",
    "print(eig_values1)\n",
    "print(\" \")\n",
    "print(\"AAT eig_vectors\")\n",
    "print(eig_vectors1)"
   ]
  },
  {
   "cell_type": "code",
   "execution_count": null,
   "metadata": {},
   "outputs": [],
   "source": []
  }
 ],
 "metadata": {
  "kernelspec": {
   "display_name": "Python 3",
   "language": "python",
   "name": "python3"
  },
  "language_info": {
   "codemirror_mode": {
    "name": "ipython",
    "version": 3
   },
   "file_extension": ".py",
   "mimetype": "text/x-python",
   "name": "python",
   "nbconvert_exporter": "python",
   "pygments_lexer": "ipython3",
   "version": "3.8.3"
  }
 },
 "nbformat": 4,
 "nbformat_minor": 4
}
