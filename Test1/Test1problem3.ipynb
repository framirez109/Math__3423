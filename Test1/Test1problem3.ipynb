{
 "cells": [
  {
   "cell_type": "code",
   "execution_count": 5,
   "metadata": {},
   "outputs": [
    {
     "name": "stdout",
     "output_type": "stream",
     "text": [
      "Matrix rank\n",
      "[[0 1 0]\n",
      " [2 4 0]\n",
      " [3 0 3]\n",
      " [4 3 2]\n",
      " [1 1 4]]\n"
     ]
    }
   ],
   "source": [
    "import numpy as np \n",
    "from scipy.linalg import qr\n",
    "from scipy.linalg import solve\n",
    "#\n",
    "\n",
    "m = 5 ; n = 3\n",
    "\n",
    "choice = 0 \n",
    "\n",
    "\n",
    "A = np.random.randint(5, size=(m, n))\n",
    "b = np.random.randint(10, size=(5))\n",
    "rank = np.linalg.matrix_rank(A)\n",
    "print(\"Matrix rank\")\n",
    "print(A)"
   ]
  },
  {
   "cell_type": "code",
   "execution_count": null,
   "metadata": {},
   "outputs": [],
   "source": []
  }
 ],
 "metadata": {
  "kernelspec": {
   "display_name": "Python 3",
   "language": "python",
   "name": "python3"
  },
  "language_info": {
   "codemirror_mode": {
    "name": "ipython",
    "version": 3
   },
   "file_extension": ".py",
   "mimetype": "text/x-python",
   "name": "python",
   "nbconvert_exporter": "python",
   "pygments_lexer": "ipython3",
   "version": "3.8.3"
  }
 },
 "nbformat": 4,
 "nbformat_minor": 4
}
