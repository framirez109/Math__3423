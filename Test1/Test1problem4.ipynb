{
 "cells": [
  {
   "cell_type": "code",
   "execution_count": 4,
   "metadata": {},
   "outputs": [
    {
     "name": "stdout",
     "output_type": "stream",
     "text": [
      "ATA eig_values\n",
      "[80.50839917 13.4135472   3.07805363]\n",
      " \n",
      "ATA eig_vectors\n",
      "[[ 0.27238144  0.94230378 -0.19460711]\n",
      " [ 0.81771051 -0.33329278 -0.46932446]\n",
      " [ 0.50710736  0.03129701  0.86131448]]\n"
     ]
    }
   ],
   "source": [
    "import numpy as np\n",
    "from numpy.linalg import eig\n",
    "\n",
    "A = np.random.randint(5,size = (5,3))\n",
    "b = np.random.randint(10, size = (5))\n",
    "\n",
    "ATA = A.T @ A \n",
    "\n",
    "eig_values, eig_vectors = eig(ATA)\n",
    "\n",
    "print(\"ATA eig_values\")\n",
    "print(eig_values)\n",
    "print(\" \")\n",
    "print(\"ATA eig_vectors\")\n",
    "print(eig_vectors)"
   ]
  },
  {
   "cell_type": "markdown",
   "metadata": {},
   "source": [
    "We know that the eigenvalues of AAT are non-negative and real numbers"
   ]
  },
  {
   "cell_type": "code",
   "execution_count": null,
   "metadata": {},
   "outputs": [],
   "source": []
  }
 ],
 "metadata": {
  "kernelspec": {
   "display_name": "Python 3",
   "language": "python",
   "name": "python3"
  },
  "language_info": {
   "codemirror_mode": {
    "name": "ipython",
    "version": 3
   },
   "file_extension": ".py",
   "mimetype": "text/x-python",
   "name": "python",
   "nbconvert_exporter": "python",
   "pygments_lexer": "ipython3",
   "version": "3.8.3"
  }
 },
 "nbformat": 4,
 "nbformat_minor": 4
}
