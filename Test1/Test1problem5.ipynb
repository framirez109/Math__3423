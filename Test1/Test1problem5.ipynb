{
 "cells": [
  {
   "cell_type": "code",
   "execution_count": 3,
   "metadata": {},
   "outputs": [
    {
     "name": "stdout",
     "output_type": "stream",
     "text": [
      "ATA solution\n",
      "[-0.84303321  1.69907566  1.42964738]\n"
     ]
    }
   ],
   "source": [
    "import numpy as np \n",
    "#from numpy import array\n",
    "from scipy.linalg import qr\n",
    "#from scipy.linalg import inv\n",
    "#from scipy.linalg import pinv\n",
    "from scipy.linalg import solve\n",
    "from scipy.linalg import lu\n",
    "\n",
    "m = 5 ; n = 3\n",
    "\n",
    "\n",
    "A = np.random.randint(5, size=(5,3))\n",
    "\n",
    "b = np.random.randint(10, size=(5))\n",
    "\n",
    "\n",
    "ATA = A.T @ A\n",
    "\n",
    "\n",
    "ATb = A.T @ b\n",
    "\n",
    "\n",
    "\n",
    "P, L, U = lu(ATA)\n",
    "\n",
    "\n",
    "#solve ATAx = ATb\n",
    "y = solve(L, P.T @ ATb)\n",
    "x = solve(U, y)\n",
    "\n",
    "print(\"ATA solution\")\n",
    "print(x)"
   ]
  },
  {
   "cell_type": "code",
   "execution_count": 1,
   "metadata": {},
   "outputs": [
    {
     "name": "stdout",
     "output_type": "stream",
     "text": [
      "ATA solution\n",
      "[2.09551657 1.56140351 0.07602339]\n"
     ]
    }
   ],
   "source": [
    "import numpy as np \n",
    "from scipy.linalg import ldl\n",
    "from scipy.linalg import solve\n",
    "from scipy.linalg import diagsvd\n",
    "\n",
    "m = 5 ; n = 3\n",
    "\n",
    "\n",
    "\n",
    "A = np.random.randint(5, size = (5,3))\n",
    "b = np.random.randint(10, size = (5))\n",
    "\n",
    "\n",
    "ATA = A.T @ A \n",
    "\n",
    "ATb = A.T @ b\n",
    "\n",
    "\n",
    "L, D, p = ldl(ATA)\n",
    "\n",
    "\n",
    " \n",
    "z = solve(L , ATb)\n",
    "y = solve(D, z)\n",
    "x = solve(L.T, y)\n",
    "\n",
    "\n",
    "print(\"ATA solution\")\n",
    "print(x)"
   ]
  },
  {
   "cell_type": "code",
   "execution_count": null,
   "metadata": {},
   "outputs": [],
   "source": []
  }
 ],
 "metadata": {
  "kernelspec": {
   "display_name": "Python 3",
   "language": "python",
   "name": "python3"
  },
  "language_info": {
   "codemirror_mode": {
    "name": "ipython",
    "version": 3
   },
   "file_extension": ".py",
   "mimetype": "text/x-python",
   "name": "python",
   "nbconvert_exporter": "python",
   "pygments_lexer": "ipython3",
   "version": "3.8.3"
  }
 },
 "nbformat": 4,
 "nbformat_minor": 4
}
