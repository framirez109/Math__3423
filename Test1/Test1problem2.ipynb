{
 "cells": [
  {
   "cell_type": "code",
   "execution_count": 3,
   "metadata": {},
   "outputs": [
    {
     "name": "stdout",
     "output_type": "stream",
     "text": [
      "Solution Vector x =\n",
      "[ 2.27722772  2.9009901  -1.85148515]\n"
     ]
    }
   ],
   "source": [
    "import numpy as np\n",
    "from scipy.linalg import svd\n",
    "from scipy.linalg import diagsvd\n",
    "from scipy.linalg import pinv\n",
    "from scipy.linalg import inv\n",
    "\n",
    "m = 5 ; n = 3\n",
    "\n",
    "A = np.random.randint(5 , size=(5,3))\n",
    "b = np.random.randint(10, size=(5))\n",
    "\n",
    "\n",
    "U, sigma, VT = svd(A)\n",
    "Sigma = diagsvd(sigma, m, n)\n",
    "\n",
    "PseudoA = (VT).T @ pinv(Sigma) @ U.T \n",
    "\n",
    "\n",
    "x = PseudoA @ b\n",
    "x1 = pinv(A) @ b\n",
    "y = x - x1\n",
    "print(\"Solution Vector x =\")\n",
    "print(x)\n"
   ]
  },
  {
   "cell_type": "code",
   "execution_count": null,
   "metadata": {},
   "outputs": [],
   "source": []
  }
 ],
 "metadata": {
  "kernelspec": {
   "display_name": "Python 3",
   "language": "python",
   "name": "python3"
  },
  "language_info": {
   "codemirror_mode": {
    "name": "ipython",
    "version": 3
   },
   "file_extension": ".py",
   "mimetype": "text/x-python",
   "name": "python",
   "nbconvert_exporter": "python",
   "pygments_lexer": "ipython3",
   "version": "3.8.3"
  }
 },
 "nbformat": 4,
 "nbformat_minor": 4
}
