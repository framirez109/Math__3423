{
 "cells": [
  {
   "cell_type": "code",
   "execution_count": 1,
   "metadata": {},
   "outputs": [
    {
     "name": "stdout",
     "output_type": "stream",
     "text": [
      " \n",
      "A solution\n",
      "[-0.84602649  1.94039735  0.40397351]\n",
      " \n"
     ]
    }
   ],
   "source": [
    "import numpy as np \n",
    "from scipy.linalg import qr\n",
    "from scipy.linalg import solve\n",
    "#\n",
    "\n",
    "m = 5 ; n = 3\n",
    "\n",
    "choice = 0 \n",
    "\n",
    "\n",
    "A = np.random.randint(5, size=(5,3))\n",
    "b = np.random.randint(10, size=(5))\n",
    "\n",
    "\n",
    "if choice == 0: \n",
    "     Q, R = qr(A, mode='economic')\n",
    "else:\n",
    "     Q, R = qr(A, mode='full')\n",
    "\n",
    "\n",
    "if choice == 0: \n",
    "  x = solve(R, Q.T @ b)  \n",
    "  \n",
    "  print(\" \")\n",
    "  print(\"A solution\")\n",
    "  print(x)\n",
    "  print(\" \")"
   ]
  },
  {
   "cell_type": "code",
   "execution_count": 2,
   "metadata": {},
   "outputs": [
    {
     "name": "stdout",
     "output_type": "stream",
     "text": [
      "Solution Vector x =\n",
      "[ 1.55382938 -0.68138457  0.1883347 ]\n"
     ]
    }
   ],
   "source": [
    "import numpy as np\n",
    "from scipy.linalg import svd\n",
    "from scipy.linalg import diagsvd\n",
    "from scipy.linalg import pinv\n",
    "from scipy.linalg import inv\n",
    "\n",
    "#PROBLEM 2\n",
    "\n",
    "m = 5 ; n = 3\n",
    "\n",
    "A = np.random.randint(5 , size=(5,3))\n",
    "b = np.random.randint(10, size=(5))\n",
    "\n",
    "\n",
    "U, sigma, VT = svd(A)\n",
    "Sigma = diagsvd(sigma, m, n)\n",
    "\n",
    "PseudoA = (VT).T @ pinv(Sigma) @ U.T \n",
    "\n",
    "\n",
    "x = PseudoA @ b\n",
    "x1 = pinv(A) @ b\n",
    "y = x - x1\n",
    "print(\"Solution Vector x =\")\n",
    "print(x)"
   ]
  },
  {
   "cell_type": "code",
   "execution_count": null,
   "metadata": {},
   "outputs": [],
   "source": []
  }
 ],
 "metadata": {
  "kernelspec": {
   "display_name": "Python 3",
   "language": "python",
   "name": "python3"
  },
  "language_info": {
   "codemirror_mode": {
    "name": "ipython",
    "version": 3
   },
   "file_extension": ".py",
   "mimetype": "text/x-python",
   "name": "python",
   "nbconvert_exporter": "python",
   "pygments_lexer": "ipython3",
   "version": "3.8.3"
  }
 },
 "nbformat": 4,
 "nbformat_minor": 4
}
