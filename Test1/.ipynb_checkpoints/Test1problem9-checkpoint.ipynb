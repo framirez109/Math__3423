{
 "cells": [
  {
   "cell_type": "code",
   "execution_count": 2,
   "metadata": {},
   "outputs": [
    {
     "name": "stdout",
     "output_type": "stream",
     "text": [
      "ATA solution\n",
      "[0.45138889 1.09375    0.29513889]\n"
     ]
    }
   ],
   "source": [
    "import numpy as np \n",
    "from scipy.linalg import ldl\n",
    "from scipy.linalg import solve\n",
    "from scipy.linalg import diagsvd\n",
    "from scipy.linalg import svd, pinv\n",
    "\n",
    "\n",
    "m = 5 ; n = 3\n",
    "\n",
    "\n",
    "A = np.random.randint(5, size = (5,3))\n",
    "b = np.random.randint(10, size = (5))\n",
    "\n",
    "ATA = A.T @ A\n",
    "\n",
    "ATb = A.T @ b\n",
    "\n",
    "U, sigma, VT = svd(ATA)\n",
    "\n",
    "\n",
    "\n",
    "V = VT.T\n",
    "\n",
    "Sigma = diagsvd(sigma, n, n)\n",
    "\n",
    "z = U.T @ ATb\n",
    "\n",
    "\n",
    "\n",
    "y = pinv(Sigma) @ z\n",
    "\n",
    "x = V @ y\n",
    "\n",
    "\n",
    "print(\"ATA solution\")\n",
    "print(x)"
   ]
  },
  {
   "cell_type": "code",
   "execution_count": null,
   "metadata": {},
   "outputs": [],
   "source": []
  }
 ],
 "metadata": {
  "kernelspec": {
   "display_name": "Python 3",
   "language": "python",
   "name": "python3"
  },
  "language_info": {
   "codemirror_mode": {
    "name": "ipython",
    "version": 3
   },
   "file_extension": ".py",
   "mimetype": "text/x-python",
   "name": "python",
   "nbconvert_exporter": "python",
   "pygments_lexer": "ipython3",
   "version": "3.8.3"
  }
 },
 "nbformat": 4,
 "nbformat_minor": 4
}
