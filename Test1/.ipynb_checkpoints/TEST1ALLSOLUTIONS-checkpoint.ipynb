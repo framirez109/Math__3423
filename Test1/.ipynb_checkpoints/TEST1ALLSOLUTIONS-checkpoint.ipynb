{
 "cells": [
  {
   "cell_type": "code",
   "execution_count": 1,
   "metadata": {},
   "outputs": [
    {
     "name": "stdout",
     "output_type": "stream",
     "text": [
      " \n",
      "A solution\n",
      "[ 2.13089005  1.12565445 -1.13612565]\n",
      " \n"
     ]
    }
   ],
   "source": [
    "import numpy as np \n",
    "from scipy.linalg import qr\n",
    "from scipy.linalg import solve\n",
    "\n",
    "\n",
    "m = 5 ; n = 3\n",
    "\n",
    "\n",
    "\n",
    "choice = 0 \n",
    "\n",
    "\n",
    "A = np.random.randint(5, size=(5,3))\n",
    "b = np.random.randint(10, size=(5))\n",
    "\n",
    "\n",
    "if choice == 0: \n",
    "     Q, R = qr(A, mode='economic')\n",
    "else:\n",
    "     Q, R = qr(A, mode='full')\n",
    "\n",
    "\n",
    "x = solve(R, Q.T @ b)  \n",
    "\n",
    "print(\" \")\n",
    "print(\"A solution\")\n",
    "print(x)\n",
    "print(\" \")"
   ]
  },
  {
   "cell_type": "code",
   "execution_count": 2,
   "metadata": {},
   "outputs": [
    {
     "name": "stdout",
     "output_type": "stream",
     "text": [
      "Solution Vector x =\n",
      "[ 2.66666667 -2.88888889  0.88888889]\n"
     ]
    }
   ],
   "source": [
    "import numpy as np\n",
    "from scipy.linalg import svd\n",
    "from scipy.linalg import diagsvd\n",
    "from scipy.linalg import pinv\n",
    "from scipy.linalg import inv\n",
    "\n",
    "#PROBLEM 2\n",
    "\n",
    "m = 5 ; n = 3\n",
    "\n",
    "A = np.random.randint(5 , size=(5,3))\n",
    "b = np.random.randint(10, size=(5))\n",
    "\n",
    "\n",
    "U, sigma, VT = svd(A)\n",
    "Sigma = diagsvd(sigma, m, n)\n",
    "\n",
    "PseudoA = (VT).T @ pinv(Sigma) @ U.T \n",
    "\n",
    "\n",
    "x = PseudoA @ b\n",
    "x1 = pinv(A) @ b\n",
    "y = x - x1\n",
    "print(\"Solution Vector x =\")\n",
    "print(x)"
   ]
  },
  {
   "cell_type": "code",
   "execution_count": 1,
   "metadata": {},
   "outputs": [
    {
     "name": "stdout",
     "output_type": "stream",
     "text": [
      "Matrix rank\n",
      "[[2 1 1]\n",
      " [0 1 1]\n",
      " [4 3 3]\n",
      " [2 0 2]\n",
      " [1 3 4]]\n"
     ]
    }
   ],
   "source": [
    "import numpy as np \n",
    "from scipy.linalg import qr\n",
    "from scipy.linalg import solve\n",
    "#PROBLEM 3\n",
    "\n",
    "m = 5 ; n = 3\n",
    "\n",
    "choice = 0 \n",
    "\n",
    "\n",
    "A = np.random.randint(5, size=(m, n))\n",
    "b = np.random.randint(10, size=(5))\n",
    "rank = np.linalg.matrix_rank(A)\n",
    "print(\"Matrix rank\")\n",
    "print(A)"
   ]
  },
  {
   "cell_type": "code",
   "execution_count": 3,
   "metadata": {},
   "outputs": [
    {
     "name": "stdout",
     "output_type": "stream",
     "text": [
      "ATA eig_values\n",
      "[53.18976896 12.28686607 13.52336497]\n",
      " \n",
      "ATA eig_vectors\n",
      "[[ 0.37287013  0.91634336 -0.14588595]\n",
      " [ 0.64779583 -0.36964532 -0.66612529]\n",
      " [ 0.66432555 -0.15387391  0.73143311]]\n"
     ]
    }
   ],
   "source": [
    "import numpy as np\n",
    "from numpy.linalg import eig\n",
    "#PROBLEM 4\n",
    "A = np.random.randint(5,size = (5,3))\n",
    "b = np.random.randint(10, size = (5))\n",
    "\n",
    "ATA = A.T @ A \n",
    "\n",
    "eig_values, eig_vectors = eig(ATA)\n",
    "\n",
    "print(\"ATA eig_values\")\n",
    "print(eig_values)\n",
    "print(\" \")\n",
    "print(\"ATA eig_vectors\")\n",
    "print(eig_vectors)"
   ]
  },
  {
   "cell_type": "markdown",
   "metadata": {},
   "source": [
    "We know that the eigenvalues of AAT are non-negative and real numbers"
   ]
  },
  {
   "cell_type": "code",
   "execution_count": 4,
   "metadata": {},
   "outputs": [
    {
     "name": "stdout",
     "output_type": "stream",
     "text": [
      "ATA solution\n",
      "[ 1.56911344 -0.54909438  0.53288847]\n"
     ]
    }
   ],
   "source": [
    "import numpy as np \n",
    "#from numpy import array\n",
    "from scipy.linalg import qr\n",
    "#from scipy.linalg import inv\n",
    "#from scipy.linalg import pinv\n",
    "from scipy.linalg import solve\n",
    "from scipy.linalg import lu\n",
    "\n",
    "m = 5 ; n = 3\n",
    "#PROBLEM 5\n",
    "\n",
    "A = np.random.randint(5, size=(5,3))\n",
    "\n",
    "b = np.random.randint(10, size=(5))\n",
    "\n",
    "\n",
    "ATA = A.T @ A\n",
    "\n",
    "\n",
    "ATb = A.T @ b\n",
    "\n",
    "\n",
    "\n",
    "P, L, U = lu(ATA)\n",
    "\n",
    "\n",
    "#solve ATAx = ATb\n",
    "y = solve(L, P.T @ ATb)\n",
    "x = solve(U, y)\n",
    "\n",
    "print(\"ATA solution\")\n",
    "print(x)"
   ]
  },
  {
   "cell_type": "code",
   "execution_count": 5,
   "metadata": {},
   "outputs": [
    {
     "name": "stdout",
     "output_type": "stream",
     "text": [
      "ATA solution\n",
      "[-2.17574437  0.5664488   2.64415396]\n"
     ]
    }
   ],
   "source": [
    "import numpy as np \n",
    "from scipy.linalg import ldl\n",
    "from scipy.linalg import solve\n",
    "from scipy.linalg import diagsvd\n",
    "#PROBLEM 6\n",
    "\n",
    "m = 5 ; n = 3\n",
    "\n",
    "\n",
    "\n",
    "A = np.random.randint(5, size = (5,3))\n",
    "b = np.random.randint(10, size = (5))\n",
    "\n",
    "\n",
    "ATA = A.T @ A \n",
    "\n",
    "ATb = A.T @ b\n",
    "\n",
    "\n",
    "L, D, p = ldl(ATA)\n",
    "\n",
    "\n",
    " \n",
    "z = solve(L , ATb)\n",
    "y = solve(D, z)\n",
    "x = solve(L.T, y)\n",
    "\n",
    "\n",
    "print(\"ATA solution\")\n",
    "print(x)"
   ]
  },
  {
   "cell_type": "code",
   "execution_count": 6,
   "metadata": {},
   "outputs": [
    {
     "name": "stdout",
     "output_type": "stream",
     "text": [
      "ATA solution\n",
      "[ 1.79452055  1.37442922 -0.63926941]\n"
     ]
    }
   ],
   "source": [
    "import numpy as np \n",
    "from scipy.linalg import solve\n",
    "from scipy.linalg import cholesky\n",
    "from scipy.linalg import norm, solve_triangular\n",
    "\n",
    "m = 5 ; n = 3\n",
    "#PROBLEM 7 \n",
    "\n",
    "A = np.random.randint(5, size=(5,3))\n",
    "\n",
    "b = np.random.randint(10, size=(5))\n",
    "\n",
    "\n",
    "\n",
    "ATA = A.T @ A\n",
    "\n",
    "ATb = A.T @ b\n",
    "\n",
    "R = cholesky(ATA)\n",
    "\n",
    "\n",
    "\n",
    "w = solve(R.T, ATb)\n",
    "x = solve(R, w)\n",
    "\n",
    "\n",
    "print(\"ATA solution\")\n",
    "print(x)"
   ]
  },
  {
   "cell_type": "code",
   "execution_count": 9,
   "metadata": {},
   "outputs": [
    {
     "name": "stdout",
     "output_type": "stream",
     "text": [
      "ATA solution\n",
      "[-0.55414013  0.32165605  0.32961783]\n",
      " \n"
     ]
    }
   ],
   "source": [
    "import numpy as np \n",
    "#from numpy import array\n",
    "from scipy.linalg import qr\n",
    "#from scipy.linalg import inv\n",
    "#from scipy.linalg import pinv\n",
    "from scipy.linalg import solve\n",
    "#PROBLEM 8\n",
    "\n",
    "choice = 0 \n",
    "\n",
    "\n",
    "A = np.random.randint(5, size=(5,3) )\n",
    "b = np.random.randint(10, size=(5))\n",
    "\n",
    "\n",
    "if choice == 0: \n",
    "     Q, R = qr(A, mode='economic')\n",
    "else:\n",
    "     Q, R = qr(A, mode='full')\n",
    "\n",
    "\n",
    "print(\"ATA solution\")\n",
    "x1 = solve(R.T @ R, A.T @ b)\n",
    "print(x1)\n",
    "print(\" \")"
   ]
  },
  {
   "cell_type": "code",
   "execution_count": 7,
   "metadata": {},
   "outputs": [
    {
     "name": "stdout",
     "output_type": "stream",
     "text": [
      "ATA solution\n",
      "[-3.33333333  3.16666667  0.5       ]\n"
     ]
    }
   ],
   "source": [
    "import numpy as np \n",
    "from scipy.linalg import ldl\n",
    "from scipy.linalg import solve\n",
    "from scipy.linalg import diagsvd\n",
    "from scipy.linalg import svd, pinv\n",
    "\n",
    "m = 5 ; n = 3\n",
    "\n",
    "A = np.random.randint(5, size = (5,3))\n",
    "b = np.random.randint(10, size = (5))\n",
    "\n",
    "ATA = A.T @ A\n",
    "\n",
    "ATb = A.T @ b\n",
    "\n",
    "U, sigma, VT = svd(ATA)\n",
    "\n",
    "\n",
    "V = VT.T\n",
    "\n",
    "Sigma = diagsvd(sigma, n, n)\n",
    "\n",
    "z = U.T @ ATb\n",
    "\n",
    "\n",
    "\n",
    "y = pinv(Sigma) @ z\n",
    "\n",
    "x = V @ y\n",
    "\n",
    "\n",
    "print(\"ATA solution\")\n",
    "print(x)"
   ]
  },
  {
   "cell_type": "code",
   "execution_count": null,
   "metadata": {},
   "outputs": [],
   "source": []
  }
 ],
 "metadata": {
  "kernelspec": {
   "display_name": "Python 3",
   "language": "python",
   "name": "python3"
  },
  "language_info": {
   "codemirror_mode": {
    "name": "ipython",
    "version": 3
   },
   "file_extension": ".py",
   "mimetype": "text/x-python",
   "name": "python",
   "nbconvert_exporter": "python",
   "pygments_lexer": "ipython3",
   "version": "3.8.3"
  }
 },
 "nbformat": 4,
 "nbformat_minor": 4
}
