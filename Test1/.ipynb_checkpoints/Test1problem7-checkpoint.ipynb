{
 "cells": [
  {
   "cell_type": "code",
   "execution_count": 1,
   "metadata": {},
   "outputs": [
    {
     "name": "stdout",
     "output_type": "stream",
     "text": [
      "ATA solution\n",
      "[ 0.36515934 -0.17976862  0.07540816]\n"
     ]
    }
   ],
   "source": [
    "import numpy as np \n",
    "from scipy.linalg import solve\n",
    "from scipy.linalg import cholesky\n",
    "from scipy.linalg import norm, solve_triangular\n",
    "\n",
    "m = 5 ; n = 3\n",
    "\n",
    "\n",
    "A = np.random.randint(5, size=(5,3))\n",
    "\n",
    "b = np.random.randint(10, size=(5))\n",
    "\n",
    "\n",
    "\n",
    "ATA = A.T @ A\n",
    "\n",
    "ATb = A.T @ b\n",
    "\n",
    "R = cholesky(ATA)\n",
    "\n",
    "\n",
    "\n",
    "w = solve(R.T, ATb)\n",
    "x = solve(R, w)\n",
    "\n",
    "\n",
    "print(\"ATA solution\")\n",
    "print(x)"
   ]
  },
  {
   "cell_type": "code",
   "execution_count": null,
   "metadata": {},
   "outputs": [],
   "source": []
  }
 ],
 "metadata": {
  "kernelspec": {
   "display_name": "Python 3",
   "language": "python",
   "name": "python3"
  },
  "language_info": {
   "codemirror_mode": {
    "name": "ipython",
    "version": 3
   },
   "file_extension": ".py",
   "mimetype": "text/x-python",
   "name": "python",
   "nbconvert_exporter": "python",
   "pygments_lexer": "ipython3",
   "version": "3.8.3"
  }
 },
 "nbformat": 4,
 "nbformat_minor": 4
}
