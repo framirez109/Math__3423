{
 "cells": [
  {
   "cell_type": "code",
   "execution_count": 2,
   "metadata": {},
   "outputs": [
    {
     "name": "stdout",
     "output_type": "stream",
     "text": [
      "ATA solution\n",
      "[ 1.33183857 -1.69506726  3.32556054]\n",
      " \n"
     ]
    }
   ],
   "source": [
    "import numpy as np \n",
    "#from numpy import array\n",
    "from scipy.linalg import qr\n",
    "#from scipy.linalg import inv\n",
    "#from scipy.linalg import pinv\n",
    "from scipy.linalg import solve\n",
    "\n",
    "\n",
    "choice = 0 \n",
    "\n",
    "\n",
    "A = np.random.randint(5, size=(5,3) )\n",
    "b = np.random.randint(10, size=(5))\n",
    "\n",
    "\n",
    "if choice == 0: \n",
    "     Q, R = qr(A, mode='economic')\n",
    "else:\n",
    "     Q, R = qr(A, mode='full')\n",
    "\n",
    "\n",
    "print(\"ATA solution\")\n",
    "x1 = solve(R.T @ R, A.T @ b)\n",
    "print(x1)\n",
    "print(\" \")"
   ]
  },
  {
   "cell_type": "code",
   "execution_count": null,
   "metadata": {},
   "outputs": [],
   "source": []
  }
 ],
 "metadata": {
  "kernelspec": {
   "display_name": "Python 3",
   "language": "python",
   "name": "python3"
  },
  "language_info": {
   "codemirror_mode": {
    "name": "ipython",
    "version": 3
   },
   "file_extension": ".py",
   "mimetype": "text/x-python",
   "name": "python",
   "nbconvert_exporter": "python",
   "pygments_lexer": "ipython3",
   "version": "3.8.3"
  }
 },
 "nbformat": 4,
 "nbformat_minor": 4
}
