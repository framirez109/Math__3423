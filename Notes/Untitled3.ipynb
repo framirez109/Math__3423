{
 "cells": [
  {
   "cell_type": "code",
   "execution_count": 32,
   "metadata": {},
   "outputs": [
    {
     "name": "stdout",
     "output_type": "stream",
     "text": [
      "L:  [[0 0 0 0 0]\n",
      " [0 0 0 0 0]\n",
      " [0 0 0 0 0]\n",
      " [0 0 0 0 0]\n",
      " [0 0 0 0 1]]\n",
      " \n",
      "D:  [[ 2 -2  0  0  0]\n",
      " [ 0  5 -6  0  0]\n",
      " [ 0  0 16 12  0]\n",
      " [ 0  0  0 39 -6]\n",
      " [ 0  0  0  0 14]]\n"
     ]
    }
   ],
   "source": [
    "import numpy as np\n",
    "\n",
    "a = np.array([[2,-2 , 0, 0, 0],\n",
    "            [-2, 5, -6, 0, 0],\n",
    "            [0, -6, 16, 12, 0],\n",
    "            [0, 0, 12, 39, -6],\n",
    "            [0, 0, 0, -6, 14]])\n",
    "\n",
    "\n",
    "def doolittle_decomp(a):\n",
    "    s = len(a)\n",
    "    L = [[0 for i in range(s)] for j in range(s)]\n",
    "    D = [[0 for i in range(s)] for j in range(s)]\n",
    "    \n",
    "    for i in range(s):\n",
    "        for j in range(i, s):\n",
    "            total = 0\n",
    "            for k in range(i):\n",
    "                total += (L[i][k] * D[k][j])\n",
    "            \n",
    "            D[i][j] = a[i][j] - total\n",
    "    \n",
    "    for j in range(i, s):\n",
    "        if(i == j):\n",
    "            L[i][i] = 1\n",
    "        else:\n",
    "            total = 0\n",
    "            for k in range(i):\n",
    "                total += (L[j][k] * D[k][i])\n",
    "            \n",
    "            L[i][j] = int((a[j][i] - total)/D[i][i])\n",
    "                \n",
    "    return L, D\n",
    "\n",
    "L, D = doolittle_decomp(a)\n",
    "print(\"L: \",np.matrix(L))\n",
    "print(\" \")\n",
    "print(\"D: \",np.matrix(D))"
   ]
  },
  {
   "cell_type": "code",
   "execution_count": null,
   "metadata": {},
   "outputs": [],
   "source": []
  }
 ],
 "metadata": {
  "kernelspec": {
   "display_name": "Python 3",
   "language": "python",
   "name": "python3"
  },
  "language_info": {
   "codemirror_mode": {
    "name": "ipython",
    "version": 3
   },
   "file_extension": ".py",
   "mimetype": "text/x-python",
   "name": "python",
   "nbconvert_exporter": "python",
   "pygments_lexer": "ipython3",
   "version": "3.8.3"
  }
 },
 "nbformat": 4,
 "nbformat_minor": 4
}
